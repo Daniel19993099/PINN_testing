{
 "cells": [
  {
   "cell_type": "code",
   "execution_count": 2,
   "metadata": {},
   "outputs": [
    {
     "ename": "AttributeError",
     "evalue": "module 'deepxde.icbc' has no attribute 'func_bcs'",
     "output_type": "error",
     "traceback": [
      "\u001b[1;31m---------------------------------------------------------------------------\u001b[0m",
      "\u001b[1;31mAttributeError\u001b[0m                            Traceback (most recent call last)",
      "Cell \u001b[1;32mIn[2], line 23\u001b[0m\n\u001b[0;32m     20\u001b[0m ic \u001b[38;5;241m=\u001b[39m dde\u001b[38;5;241m.\u001b[39mIC(geomtime, func_ic, \u001b[38;5;28;01mlambda\u001b[39;00m _, on_initial: on_initial)\n\u001b[0;32m     22\u001b[0m \u001b[38;5;66;03m# Boundary condition\u001b[39;00m\n\u001b[1;32m---> 23\u001b[0m bc \u001b[38;5;241m=\u001b[39m dde\u001b[38;5;241m.\u001b[39mDirichletBC(geomtime, \u001b[43mdde\u001b[49m\u001b[38;5;241;43m.\u001b[39;49m\u001b[43micbc\u001b[49m\u001b[38;5;241;43m.\u001b[39;49m\u001b[43mfunc_bcs\u001b[49m, \u001b[38;5;28;01mlambda\u001b[39;00m _, on_boundary: on_boundary)\n\u001b[0;32m     25\u001b[0m \u001b[38;5;66;03m# Define the data object\u001b[39;00m\n\u001b[0;32m     26\u001b[0m data \u001b[38;5;241m=\u001b[39m dde\u001b[38;5;241m.\u001b[39mdata\u001b[38;5;241m.\u001b[39mTimePDE(geomtime, pde, [ic, bc], num_domain\u001b[38;5;241m=\u001b[39m\u001b[38;5;241m2540\u001b[39m, num_boundary\u001b[38;5;241m=\u001b[39m\u001b[38;5;241m80\u001b[39m, num_initial\u001b[38;5;241m=\u001b[39m\u001b[38;5;241m160\u001b[39m)\n",
      "\u001b[1;31mAttributeError\u001b[0m: module 'deepxde.icbc' has no attribute 'func_bcs'"
     ]
    }
   ],
   "source": [
    "import deepxde as dde\n",
    "import numpy as np\n",
    "import tensorflow as tf\n",
    "\n",
    "# Define the PDE\n",
    "def pde(x, u):\n",
    "    du_t = dde.grad.jacobian(u, x, i=0, j=1)\n",
    "    du_xx = dde.grad.hessian(u, x, i=0, j=0)\n",
    "    return du_t - du_xx\n",
    "\n",
    "# Geometry and time domain\n",
    "geom = dde.geometry.Interval(0, 1)\n",
    "timedomain = dde.geometry.TimeDomain(0, 1)\n",
    "geomtime = dde.geometry.GeometryXTime(geom, timedomain)\n",
    "\n",
    "# Initial condition\n",
    "def func_ic(x):\n",
    "    return np.sin(np.pi * x[:, 0:1])\n",
    "\n",
    "ic = dde.IC(geomtime, func_ic, lambda _, on_initial: on_initial)\n",
    "\n",
    "# Boundary condition\n",
    "bc = dde.DirichletBC(geomtime, dde.icbc.func_bcs, lambda _, on_boundary: on_boundary)\n",
    "\n",
    "# Define the data object\n",
    "data = dde.data.TimePDE(geomtime, pde, [ic, bc], num_domain=2540, num_boundary=80, num_initial=160)\n",
    "\n",
    "# Define the neural network\n",
    "layer_size = [2] + [32] * 3 + [1]\n",
    "activation = \"tanh\"\n",
    "initializer = \"Glorot uniform\"\n",
    "net = dde.maps.FNN(layer_size, activation, initializer)\n",
    "\n",
    "# Define the model\n",
    "model = dde.Model(data, net)\n",
    "\n",
    "# Compile and train the model\n",
    "model.compile(\"adam\", lr=0.001)\n",
    "losshistory, train_state = model.train(epochs=5000)\n",
    "\n",
    "# Plot the results\n",
    "dde.saveplot(losshistory, train_state, issave=True, isplot=True)\n"
   ]
  }
 ],
 "metadata": {
  "kernelspec": {
   "display_name": "Python 3",
   "language": "python",
   "name": "python3"
  },
  "language_info": {
   "codemirror_mode": {
    "name": "ipython",
    "version": 3
   },
   "file_extension": ".py",
   "mimetype": "text/x-python",
   "name": "python",
   "nbconvert_exporter": "python",
   "pygments_lexer": "ipython3",
   "version": "3.12.3"
  }
 },
 "nbformat": 4,
 "nbformat_minor": 2
}
