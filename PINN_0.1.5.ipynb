{
 "cells": [
  {
   "cell_type": "code",
   "execution_count": 19,
   "metadata": {},
   "outputs": [
    {
     "name": "stderr",
     "output_type": "stream",
     "text": [
      "C:\\Users\\yesda\\AppData\\Local\\Temp\\ipykernel_33776\\2313764380.py:26: IntegrationWarning: The maximum number of subdivisions (50) has been achieved.\n",
      "  If increasing the limit yields no improvement it is advised to analyze \n",
      "  the integrand in order to determine the difficulties.  If the position of a \n",
      "  local difficulty can be determined (singularity, discontinuity) one will \n",
      "  probably gain from splitting up the interval and calling the integrator \n",
      "  on the subranges.  Perhaps a special-purpose integrator should be used.\n",
      "  integral, _ = quad(lambda x: f(x) * np.sin(n * np.pi * x / l), 0, l)\n",
      "C:\\Users\\yesda\\AppData\\Local\\Temp\\ipykernel_33776\\2313764380.py:26: IntegrationWarning: The integral is probably divergent, or slowly convergent.\n",
      "  integral, _ = quad(lambda x: f(x) * np.sin(n * np.pi * x / l), 0, l)\n"
     ]
    },
    {
     "name": "stdout",
     "output_type": "stream",
     "text": [
      "Compiling model...\n",
      "Building feed-forward neural network...\n",
      "'build' took 0.095884 s\n",
      "\n"
     ]
    },
    {
     "name": "stderr",
     "output_type": "stream",
     "text": [
      "c:\\Users\\yesda\\anaconda3\\Lib\\site-packages\\deepxde\\nn\\tensorflow_compat_v1\\fnn.py:116: UserWarning: `tf.layers.dense` is deprecated and will be removed in a future version. Please use `tf.keras.layers.Dense` instead.\n",
      "  return tf.layers.dense(\n"
     ]
    },
    {
     "name": "stdout",
     "output_type": "stream",
     "text": [
      "'compile' took 0.836504 s\n",
      "\n",
      "Training model...\n",
      "\n",
      "Step      Train loss    Test loss     Test metric   \n",
      "0         [0.00e+00]    [0.00e+00]    [9.97e-01]    \n",
      "1000      [0.00e+00]    [0.00e+00]    [9.97e-01]    \n",
      "2000      [0.00e+00]    [0.00e+00]    [9.97e-01]    \n",
      "3000      [0.00e+00]    [0.00e+00]    [9.97e-01]    \n",
      "4000      [0.00e+00]    [0.00e+00]    [9.97e-01]    \n",
      "5000      [0.00e+00]    [0.00e+00]    [9.97e-01]    \n",
      "6000      [0.00e+00]    [0.00e+00]    [9.97e-01]    \n",
      "7000      [0.00e+00]    [0.00e+00]    [9.97e-01]    \n",
      "8000      [0.00e+00]    [0.00e+00]    [9.97e-01]    \n",
      "9000      [0.00e+00]    [0.00e+00]    [9.97e-01]    \n",
      "10000     [0.00e+00]    [0.00e+00]    [9.97e-01]    \n",
      "\n",
      "Best model at step 0:\n",
      "  train loss: 0.00e+00\n",
      "  test loss: 0.00e+00\n",
      "  test metric: [9.97e-01]\n",
      "\n",
      "'train' took 24.885941 s\n",
      "\n"
     ]
    }
   ],
   "source": [
    "\"\"\"Backend supported: tensorflow.compat.v1, tensorflow, pytorch, jax, paddle\"\"\"\n",
    "import deepxde as dde\n",
    "import numpy as np\n",
    "\n",
    "from deepxde.backend import tf\n",
    "import matplotlib.pyplot as plt\n",
    "D = 3.8e-11 #m^2/s\n",
    "C0 = 0.0 #moles/m^3\n",
    "C1 = 100 #moles/m^3\n",
    "l = 0.05 #m\n",
    "def pde(x, y):\n",
    "   \n",
    "    dy_t = dde.grad.jacobian(y, x, i=0, j=1)\n",
    "    dy_xx = dde.grad.hessian(y, x, i=0, j=0)\n",
    "  \n",
    "    return (dy_t- D*dy_xx)\n",
    "\n",
    "def f(x):\n",
    "    return np.sin(np.pi * x / l)\n",
    "    \n",
    "def func(x):\n",
    "    n_terms = 10  # Number of terms in the series to approximate the solution\n",
    "    result = C0 + (x[:, 0:1] / l) * (C1 - C0)\n",
    "    for n in range(1, n_terms + 1):\n",
    "        from scipy.integrate import quad\n",
    "        integral, _ = quad(lambda x: f(x) * np.sin(n * np.pi * x / l), 0, l)\n",
    "        cn = (2 / l) * integral + (2 / (n * np.pi)) * ((-1)**n * (C1 - C0))  \n",
    "        term = cn * np.exp(-n**2 * np.pi**2 * D * x[:, 1:2] / l**2) * np.sin(n * np.pi * x[:, 0:1] / l)\n",
    "        result += term\n",
    "    return result\n",
    "\n",
    "\n",
    "\n",
    "geom = dde.geometry.Interval(0, 0.05)\n",
    "timedomain = dde.geometry.TimeDomain(0, 6.5e7)\n",
    "geomtime = dde.geometry.GeometryXTime(geom, timedomain)\n",
    "\n",
    "bc = dde.icbc.DirichletBC(geomtime, func, lambda _, on_boundary: on_boundary)\n",
    "ic = dde.icbc.IC(geomtime, func, lambda _, on_initial: on_initial)\n",
    "\n",
    "data = dde.data.TimePDE(geomtime, pde, [ic , bc], num_domain=40, solution=func, num_test=10000)\n",
    "\n",
    "layer_size = [2] + [30] * 3 + [1]\n",
    "activation = \"tanh\"\n",
    "initializer = \"Glorot uniform\"\n",
    "net = dde.nn.FNN(layer_size, activation, initializer)\n",
    "\n",
    "\n",
    "model = dde.Model(data, net)\n",
    "\n",
    "model.compile(\"adam\", lr=0.01, metrics=[\"l2 relative error\"])\n",
    "losshistory, train_state = model.train(iterations=10000)"
   ]
  },
  {
   "cell_type": "code",
   "execution_count": 15,
   "metadata": {},
   "outputs": [
    {
     "data": {
      "image/png": "[encoded data removed]",
      "text/plain": [
       "<Figure size 640x480 with 2 Axes>"
      ]
     },
     "metadata": {},
     "output_type": "display_data"
    }
   ],
   "source": [
    "import matplotlib.pyplot as plt\n",
    "\n",
    "# Create a grid of points to evaluate the solution\n",
    "x = np.linspace(0, 0.05, 100)\n",
    "t = np.linspace(0, 6.5e7, 100)\n",
    "X, T = np.meshgrid(x, t)\n",
    "points = np.vstack([X.ravel(), T.ravel()]).T\n",
    "\n",
    "# Predict the solution at these grid points\n",
    "y_pred = model.predict(points).reshape(X.shape)\n",
    "\n",
    "# Plot the solution\n",
    "plt.contourf(X, T, y_pred, levels=50, cmap='viridis')\n",
    "plt.colorbar(label='u(x,t)')\n",
    "plt.xlabel('x')\n",
    "plt.ylabel('t')\n",
    "plt.title('Predicted solution')\n",
    "plt.show()\n"
   ]
  },
  {
   "cell_type": "code",
   "execution_count": null,
   "metadata": {},
   "outputs": [],
   "source": [
    "# Define points where you want to evaluate the solution\n",
    "points = np.array([[0.5, 0.5], [-0.5, 0.5]])  # Example points (x, t)\n",
    "\n",
    "# Use the trained model to predict the solution at these points\n",
    "y_pred = model.predict(points)\n",
    "print(\"Predicted solution at points:\", y_pred)"
   ]
  }
 ],
 "metadata": {
  "kernelspec": {
   "display_name": "base",
   "language": "python",
   "name": "python3"
  },
  "language_info": {
   "codemirror_mode": {
    "name": "ipython",
    "version": 3
   },
   "file_extension": ".py",
   "mimetype": "text/x-python",
   "name": "python",
   "nbconvert_exporter": "python",
   "pygments_lexer": "ipython3",
   "version": "3.11.7"
  }
 },
 "nbformat": 4,
 "nbformat_minor": 2
}
