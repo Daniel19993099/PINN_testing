{
 "cells": [
  {
   "cell_type": "code",
   "execution_count": null,
   "metadata": {
    "vscode": {
     "languageId": "plaintext"
    }
   },
   "outputs": [],
   "source": [
    "import matplotlib.pyplot as plt\n",
    "\n",
    "# Step 1: Read the data from the text files\n",
    "# Replace 'data1.txt' and 'data2.txt' with the paths to your text files\n",
    "file_path1 = 'data1.txt'\n",
    "file_path2 = 'data2.txt'\n",
    "\n",
    "# Initialize lists to store data for the first dataset\n",
    "x_data1 = []\n",
    "y_data1 = []\n",
    "\n",
    "# Read the first dataset\n",
    "with open(file_path1, 'r') as file1:\n",
    "    for line in file1:\n",
    "        x, y = map(float, line.split())\n",
    "        x_data1.append(x)\n",
    "        y_data1.append(y)\n",
    "\n",
    "# Initialize lists to store data for the second dataset\n",
    "x_data2 = []\n",
    "y_data2 = []\n",
    "\n",
    "# Read the second dataset\n",
    "with open(file_path2, 'r') as file2:\n",
    "    for line in file2:\n",
    "        x, y = map(float, line.split())\n",
    "        x_data2.append(x)\n",
    "        y_data2.append(y)\n",
    "\n",
    "# Step 2: Plot the data\n",
    "plt.plot(x_data1, y_data1, marker='o', label='Dataset 1')\n",
    "plt.plot(x_data2, y_data2, marker='x', label='Dataset 2')\n",
    "\n",
    "# Step 3: Customize the plot\n",
    "plt.title('Comparison of Two Datasets')\n",
    "plt.xlabel('X Data')\n",
    "plt.ylabel('Y Data')\n",
    "plt.grid(True)\n",
    "plt.legend()\n",
    "\n",
    "# Step 4: Display the plot\n",
    "plt.show()\n"
   ]
  }
 ],
 "metadata": {
  "language_info": {
   "name": "python"
  }
 },
 "nbformat": 4,
 "nbformat_minor": 2
}
