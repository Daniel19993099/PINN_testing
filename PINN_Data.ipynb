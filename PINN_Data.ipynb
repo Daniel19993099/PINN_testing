{
 "cells": [
  {
   "cell_type": "code",
   "execution_count": 12,
   "metadata": {},
   "outputs": [
    {
     "name": "stderr",
     "output_type": "stream",
     "text": [
      "C:\\Users\\yesda\\AppData\\Local\\Temp\\ipykernel_8640\\3170149733.py:10: FutureWarning: The 'delim_whitespace' keyword in pd.read_csv is deprecated and will be removed in a future version. Use ``sep='\\s+'`` instead\n",
      "  df = pd.read_csv(\n"
     ]
    },
    {
     "name": "stdout",
     "output_type": "stream",
     "text": [
      "File 'Coordinate.txt' has been successfully converted to 'Coordinate.xlsx'\n"
     ]
    }
   ],
   "source": [
    "import pandas as pd\n",
    "\n",
    "# Function to convert txt file to Excel\n",
    "def txt_to_excel(txt_file, excel_file):\n",
    "    # Define column names since the text may not have a header\n",
    "    column_names = [\"Part\", \"ID\", \"X\", \"Y\", \"Z\",\"X1\",\"Y1\",\"Z1\"]\n",
    "    \n",
    "    # Read the text file into a DataFrame\n",
    "    # Using whitespace as a delimiter and defining column names\n",
    "    df = pd.read_csv(\n",
    "        txt_file,\n",
    "        delim_whitespace=True,\n",
    "        names=column_names,\n",
    "        engine='python'\n",
    "    )\n",
    "    \n",
    "    # Write the DataFrame to an Excel file\n",
    "    df.to_excel(excel_file, index=False)\n",
    "    \n",
    "    print(f\"File '{txt_file}' has been successfully converted to '{excel_file}'\")\n",
    "\n",
    "# Specify the input txt file and output Excel file\n",
    "txt_file = 'Coordinate.txt'  # Replace with your txt file path\n",
    "excel_file = 'Coordinate.xlsx'  # Replace with your desired Excel file path\n",
    "\n",
    "# Call the function to perform the conversion\n",
    "try:\n",
    "    txt_to_excel(txt_file, excel_file)\n",
    "except Exception as e:\n",
    "    print(f\"An error occurred: {e}\")\n"
   ]
  }
 ],
 "metadata": {
  "kernelspec": {
   "display_name": "Python 3",
   "language": "python",
   "name": "python3"
  },
  "language_info": {
   "codemirror_mode": {
    "name": "ipython",
    "version": 3
   },
   "file_extension": ".py",
   "mimetype": "text/x-python",
   "name": "python",
   "nbconvert_exporter": "python",
   "pygments_lexer": "ipython3",
   "version": "3.11.9"
  }
 },
 "nbformat": 4,
 "nbformat_minor": 2
}
