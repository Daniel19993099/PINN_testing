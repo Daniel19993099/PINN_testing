{
 "cells": [
  {
   "cell_type": "code",
   "execution_count": null,
   "metadata": {},
   "outputs": [
    {
     "ename": "",
     "evalue": "",
     "output_type": "error",
     "traceback": [
      "\u001b[1;31mThe kernel failed to start as 'TypeAliasType' could not be imported from 'C:\\Users\\yesda\\AppData\\Local\\Packages\\PythonSoftwareFoundation.Python.3.11_qbz5n2kfra8p0\\LocalCache\\local-packages\\Python311\\site-packages\\typing_extensions.py'.\n",
      "\u001b[1;31mClick <a href='https://aka.ms/kernelFailuresModuleImportErrFromFile'>here</a> for more info."
     ]
    }
   ],
   "source": [
    "\"\"\"Backend supported: tensorflow.compat.v1, tensorflow, pytorch, jax, paddle\"\"\"\n",
    "\n",
    "import os\n",
    "os.environ['DDE_BACKEND'] = 'tensorflow'\n",
    "\n",
    "import deepxde as dde\n",
    "import numpy as np\n",
    "import os\n",
    "\n",
    "def ode_system(x, y):\n",
    "    \"\"\"ODE system.\n",
    "    dy1/dx = y2\n",
    "    dy2/dx = -y1\n",
    "    \"\"\"\n",
    "    # Most backends\n",
    "    y1, y2 = y[:, 0:1], y[:, 1:]\n",
    "    dy1_x = dde.grad.jacobian(y, x, i=0)\n",
    "    dy2_x = dde.grad.jacobian(y, x, i=1)\n",
    "    # Backend jax\n",
    "    # y_val, y_fn = y\n",
    "    # y1, y2 = y_val[:, 0:1], y_val[:, 1:]\n",
    "    # dy1_x, _ = dde.grad.jacobian(y, x, i=0)\n",
    "    # dy2_x, _ = dde.grad.jacobian(y, x, i=1)\n",
    "    return [dy1_x - y2, dy2_x + y1]\n",
    "\n",
    "\n",
    "def boundary(_, on_initial):\n",
    "    return on_initial\n",
    "\n",
    "\n",
    "def func(x):\n",
    "    \"\"\"\n",
    "    y1 = sin(x)\n",
    "    y2 = cos(x)\n",
    "    \"\"\"\n",
    "    return np.hstack((np.sin(x), np.cos(x)))\n",
    "\n",
    "\n",
    "geom = dde.geometry.TimeDomain(0, 10)\n",
    "ic1 = dde.icbc.IC(geom, lambda x: 0, boundary, component=0)\n",
    "ic2 = dde.icbc.IC(geom, lambda x: 1, boundary, component=1)\n",
    "data = dde.data.PDE(geom, ode_system, [ic1, ic2], 35, 2, solution=func, num_test=100)\n",
    "\n",
    "layer_size = [1] + [50] * 3 + [2]\n",
    "activation = \"tanh\"\n",
    "initializer = \"Glorot uniform\"\n",
    "net = dde.nn.FNN(layer_size, activation, initializer)\n",
    "\n",
    "model = dde.Model(data, net)\n",
    "model.compile(\"adam\", lr=0.001, metrics=[\"l2 relative error\"])\n",
    "losshistory, train_state = model.train(iterations=20000)\n",
    "\n",
    "dde.saveplot(losshistory, train_state, issave=True, isplot=True)"
   ]
  }
 ],
 "metadata": {
  "kernelspec": {
   "display_name": "Python 3",
   "language": "python",
   "name": "python3"
  },
  "language_info": {
   "codemirror_mode": {
    "name": "ipython",
    "version": 3
   },
   "file_extension": ".py",
   "mimetype": "text/x-python",
   "name": "python",
   "nbconvert_exporter": "python",
   "pygments_lexer": "ipython3",
   "version": "3.11.9"
  }
 },
 "nbformat": 4,
 "nbformat_minor": 2
}
