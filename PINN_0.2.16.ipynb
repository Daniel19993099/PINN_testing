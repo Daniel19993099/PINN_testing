{
 "cells": [
  {
   "cell_type": "code",
   "execution_count": 26,
   "metadata": {},
   "outputs": [],
   "source": [
    "#Libraries\n",
    "import os \n",
    "os.environ['DDE_BACKEND']='tensorflow'\n",
    "import deepxde as dde\n",
    "import tensorflow as tf\n",
    "import numpy as np\n",
    "import matplotlib.pyplot as plt\n",
    "from matplotlib.animation import FuncAnimation\n",
    "from IPython.display import Image\n",
    "from IPython.display import display"
   ]
  },
  {
   "cell_type": "code",
   "execution_count": 27,
   "metadata": {},
   "outputs": [
    {
     "data": {
      "text/latex": [
       "$\\displaystyle C_{l} \\frac{d}{d t} \\mu_{L}{\\left(t \\right)} = \\frac{D_{L} \\left(C_{L}{\\left(x \\right)} \\frac{d^{2}}{d x^{2}} \\mu_{L}{\\left(x \\right)} + C_{L}{\\left(y \\right)} \\frac{d^{2}}{d y^{2}} \\mu_{L}{\\left(y \\right)} + \\frac{d}{d x} C_{L}{\\left(x \\right)} \\frac{d}{d x} \\mu_{L}{\\left(x \\right)} + \\frac{d}{d y} C_{L}{\\left(y \\right)} \\frac{d}{d y} \\mu_{L}{\\left(y \\right)}\\right)}{R T}$"
      ],
      "text/plain": [
       "                    ⎛        2                    2                            ↪\n",
       "                    ⎜       d                    d             d          d    ↪\n",
       "                D_L⋅⎜C_L(x)⋅───(μ_L(x)) + C_L(y)⋅───(μ_L(y)) + ──(C_L(x))⋅──(μ ↪\n",
       "                    ⎜         2                    2           dx         dx   ↪\n",
       "   d                ⎝       dx                   dy                            ↪\n",
       "Cₗ⋅──(μ_L(t)) = ────────────────────────────────────────────────────────────── ↪\n",
       "   dt                                                        R⋅T               ↪\n",
       "\n",
       "↪                               ⎞\n",
       "↪          d          d         ⎟\n",
       "↪ _L(x)) + ──(C_L(y))⋅──(μ_L(y))⎟\n",
       "↪          dy         dy        ⎟\n",
       "↪                               ⎠\n",
       "↪ ───────────────────────────────\n",
       "↪                                "
      ]
     },
     "metadata": {},
     "output_type": "display_data"
    }
   ],
   "source": [
    "#PDE \n",
    "import sympy as sy\n",
    "sy.init_printing(use_latex='mathjax')\n",
    "C_L, mu_L,t,x,y,D_L,R,T=sy.symbols(\"C_l,mu_l,t,x,y,D_L,R,T\")\n",
    "mu_Lt=sy.Function('mu_L')(t)\n",
    "mu_Lx=sy.Function('mu_L')(x)\n",
    "mu_Ly=sy.Function('mu_L')(y)\n",
    "C_Lx=sy.Function('C_L')(x)\n",
    "C_Ly=sy.Function('C_L')(y)\n",
    "LHS=C_L*sy.diff(mu_Lt,t)\n",
    "RHS=(D_L/(R*T))*(sy.diff(C_Lx*sy.diff(mu_Lx,x),x)+sy.diff(C_Ly*sy.diff(mu_Ly,y),y))\n",
    "chemical_equil=sy.Eq(LHS,RHS)\n",
    "display(chemical_equil)"
   ]
  },
  {
   "cell_type": "code",
   "execution_count": 28,
   "metadata": {},
   "outputs": [],
   "source": [
    "#Domain\n",
    "l=6e-2\n",
    "r=4e-3\n",
    "square=dde.geometry.Rectangle([0,0],[l,l])\n",
    "circle=dde.geometry.Disk([0,0],r)\n",
    "geom=dde.geometry.CSGDifference(square,circle)\n",
    "time=dde.geometry.TimeDomain(0,1)\n",
    "geomtime=dde.geometry.GeometryXTime(geom,time)"
   ]
  },
  {
   "cell_type": "code",
   "execution_count": 29,
   "metadata": {},
   "outputs": [],
   "source": [
    "#Case PDE-Chemical otential\n",
    "def pde_mu(x,y):\n",
    "    R=8.314\n",
    "    T=298 \n",
    "    D=3.8e-1\n",
    "    mu=y[:,1:2]\n",
    "    C=y[:,0:1]\n",
    "    C_ln=tf.math.exp(C)\n",
    "    dmudt=dde.grad.jacobian(mu,x,i=0,j=2)\n",
    "    dmudx=dde.grad.jacobian(mu,x,i=0,j=0)\n",
    "    dmudxx=dde.grad.hessian(mu,x,component=0,i=0,j=0)\n",
    "    dmudy=dde.grad.jacobian(mu,x,i=0,j=1)\n",
    "    dmudyy=dde.grad.hessian(mu,x,component=0,i=0,j=1)\n",
    "    dcdx=dde.grad.jacobian(C,x,i=0,j=0)\n",
    "    dcdy=dde.grad.jacobian(C,x,i=0,j=1)\n",
    "    dlncdt=dde.grad.jacobian(C_ln,x,i=0,j=2)\n",
    "    LHS=C*R*T*dlncdt\n",
    "    RHS=(D/(R*T))*(C*dmudxx+C*dmudyy+dcdx*dmudx+dcdy*dmudy)\n",
    "    return LHS-RHS\n"
   ]
  },
  {
   "cell_type": "code",
   "execution_count": null,
   "metadata": {},
   "outputs": [
    {
     "name": "stdout",
     "output_type": "stream",
     "text": [
      "Warning: CSGDifference.uniform_points not implemented. Use random_points instead.\n",
      "Compiling model...\n",
      "'compile' took 0.003301 s\n",
      "\n",
      "Training model...\n",
      "\n",
      "WARNING:tensorflow:AutoGraph could not transform <function <lambda> at 0x000002289ED2BEC0> and will run it as-is.\n",
      "Cause: could not parse the source code of <function <lambda> at 0x000002289ED2BEC0>: no matching AST found among candidates:\n",
      "# coding=utf-8\n",
      "lambda x, on: np.array([on_boundary(x[i], on[i]) for i in range(len(x))])\n",
      "# coding=utf-8\n",
      "lambda x, on: np.array([on_boundary1(x[i], on[i]) for i in range(len(x))])\n",
      "# coding=utf-8\n",
      "lambda x, on: np.array([on_boundary2(x[i], on[i]) for i in range(len(x))])\n",
      "To silence this warning, decorate the function with @tf.autograph.experimental.do_not_convert\n",
      "WARNING: AutoGraph could not transform <function <lambda> at 0x000002289ED2BEC0> and will run it as-is.\n",
      "Cause: could not parse the source code of <function <lambda> at 0x000002289ED2BEC0>: no matching AST found among candidates:\n",
      "# coding=utf-8\n",
      "lambda x, on: np.array([on_boundary(x[i], on[i]) for i in range(len(x))])\n",
      "# coding=utf-8\n",
      "lambda x, on: np.array([on_boundary1(x[i], on[i]) for i in range(len(x))])\n",
      "# coding=utf-8\n",
      "lambda x, on: np.array([on_boundary2(x[i], on[i]) for i in range(len(x))])\n",
      "To silence this warning, decorate the function with @tf.autograph.experimental.do_not_convert\n",
      "WARNING:tensorflow:AutoGraph could not transform <function <lambda> at 0x000002289EE9C220> and will run it as-is.\n",
      "Cause: could not parse the source code of <function <lambda> at 0x000002289EE9C220>: no matching AST found among candidates:\n",
      "# coding=utf-8\n",
      "lambda x, on: np.array([on_boundary(x[i], on[i]) for i in range(len(x))])\n",
      "# coding=utf-8\n",
      "lambda x, on: np.array([on_boundary1(x[i], on[i]) for i in range(len(x))])\n",
      "# coding=utf-8\n",
      "lambda x, on: np.array([on_boundary2(x[i], on[i]) for i in range(len(x))])\n",
      "To silence this warning, decorate the function with @tf.autograph.experimental.do_not_convert\n",
      "WARNING: AutoGraph could not transform <function <lambda> at 0x000002289EE9C220> and will run it as-is.\n",
      "Cause: could not parse the source code of <function <lambda> at 0x000002289EE9C220>: no matching AST found among candidates:\n",
      "# coding=utf-8\n",
      "lambda x, on: np.array([on_boundary(x[i], on[i]) for i in range(len(x))])\n",
      "# coding=utf-8\n",
      "lambda x, on: np.array([on_boundary1(x[i], on[i]) for i in range(len(x))])\n",
      "# coding=utf-8\n",
      "lambda x, on: np.array([on_boundary2(x[i], on[i]) for i in range(len(x))])\n",
      "To silence this warning, decorate the function with @tf.autograph.experimental.do_not_convert\n",
      "Step      Train loss                        Test loss                         Test metric\n",
      "0         [8.30e+03, 3.99e+02, 2.47e-05]    [1.05e+04, 3.99e+02, 2.47e-05]    []  \n",
      "10        [1.20e+01, 3.97e+02, 1.56e-04]    [1.34e+01, 3.97e+02, 1.56e-04]    []  \n",
      "\n",
      "Best model at step 10:\n",
      "  train loss: 4.09e+02\n",
      "  test loss: 4.11e+02\n",
      "  test metric: []\n",
      "\n",
      "'train' took 6.740928 s\n",
      "\n",
      "Saving loss history to c:\\Users\\yesda\\Tiedostot\\PINN_testing\\loss.dat ...\n",
      "Saving training data to c:\\Users\\yesda\\Tiedostot\\PINN_testing\\train.dat ...\n",
      "Saving test data to c:\\Users\\yesda\\Tiedostot\\PINN_testing\\test.dat ...\n"
     ]
    },
    {
     "data": {
      "image/png": "[encoded data removed]",
      "text/plain": [
       "<Figure size 640x480 with 1 Axes>"
      ]
     },
     "metadata": {},
     "output_type": "display_data"
    },
    {
     "ename": "ValueError",
     "evalue": "cannot reshape array of size 20000 into shape (100,100)",
     "output_type": "error",
     "traceback": [
      "\u001b[1;31m---------------------------------------------------------------------------\u001b[0m",
      "\u001b[1;31mValueError\u001b[0m                                Traceback (most recent call last)",
      "Cell \u001b[1;32mIn[35], line 38\u001b[0m\n\u001b[0;32m     36\u001b[0m     inputs \u001b[38;5;241m=\u001b[39m np\u001b[38;5;241m.\u001b[39mstack([X\u001b[38;5;241m.\u001b[39mflatten(), Y\u001b[38;5;241m.\u001b[39mflatten(), np\u001b[38;5;241m.\u001b[39mfull_like(X\u001b[38;5;241m.\u001b[39mflatten(), t)], axis\u001b[38;5;241m=\u001b[39m\u001b[38;5;241m1\u001b[39m)\n\u001b[0;32m     37\u001b[0m     predictions \u001b[38;5;241m=\u001b[39m model1\u001b[38;5;241m.\u001b[39mpredict(inputs)  \u001b[38;5;66;03m# Predict for the entire grid\u001b[39;00m\n\u001b[1;32m---> 38\u001b[0m     predictions \u001b[38;5;241m=\u001b[39m \u001b[43mpredictions\u001b[49m\u001b[38;5;241;43m.\u001b[39;49m\u001b[43mreshape\u001b[49m\u001b[43m(\u001b[49m\u001b[38;5;28;43mlen\u001b[39;49m\u001b[43m(\u001b[49m\u001b[43mx\u001b[49m\u001b[43m)\u001b[49m\u001b[43m,\u001b[49m\u001b[43m \u001b[49m\u001b[38;5;28;43mlen\u001b[39;49m\u001b[43m(\u001b[49m\u001b[43my\u001b[49m\u001b[43m)\u001b[49m\u001b[43m)\u001b[49m  \u001b[38;5;66;03m# Reshape to 2D grid\u001b[39;00m\n\u001b[0;32m     40\u001b[0m     data[t] \u001b[38;5;241m=\u001b[39m predictions \n\u001b[0;32m     41\u001b[0m \u001b[38;5;66;03m# Initialize the plot\u001b[39;00m\n",
      "\u001b[1;31mValueError\u001b[0m: cannot reshape array of size 20000 into shape (100,100)"
     ]
    }
   ],
   "source": [
    "#PINN structure\n",
    "C_ic=dde.IC(geomtime, lambda x: 20, lambda x, on_initial: on_initial,component=0)\n",
    "mu_ic=dde.IC(geomtime, lambda x: 0, lambda x, on_initial:on_initial,component=1) ####\n",
    "\n",
    "data=dde.data.TimePDE(\n",
    "    geomtime,\n",
    "    pde_mu,\n",
    "    [C_ic,mu_ic],\n",
    "    num_domain=800,\n",
    "    num_boundary=1000,\n",
    "    num_initial=500,\n",
    "    num_test=1000\n",
    ")\n",
    "layer=[3]+[64]*10+[2]\n",
    "net=dde.maps.FNN(layer,\"tanh\",\"Glorot uniform\")\n",
    "model1=dde.Model(data,net)\n",
    "model1.compile(\"adam\",lr=0.0001)\n",
    "losshistory, trainstate=model1.train(iterations=10)\n",
    "dde.saveplot(losshistory,trainstate,issave=True, isplot=True)\n",
    "\n"
   ]
  },
  {
   "cell_type": "code",
   "execution_count": null,
   "metadata": {},
   "outputs": [],
   "source": [
    "#Case PDE-Diffution\n",
    "def pde_C(x, y):\n",
    "    D_L = 3.8e-1  # m^2/s\n",
    "    V_H = 2e-6     # m^3/mole\n",
    "    RT = 8.314 * 298  # J/mole\n",
    "    Coe = (D_L * V_H) / RT\n",
    "    C= y[:, 0:1]\n",
    "    S=y[:,1:2]\n",
    "    dC_dt = dde.grad.jacobian(C, x, i=0, j=2)\n",
    "    CL_x = dde.grad.jacobian(C, x, i=0, j=0)\n",
    "    CL_y = dde.grad.jacobian(C, x, i=0, j=1)\n",
    "    CL_xx = dde.grad.hessian(C, x, component=0, i=0, j=0)\n",
    "    CL_yy = dde.grad.hessian(C, x, component=0, i=1, j=1)\n",
    "    sigma_t=dde.grad.jacobian(C,x,i=1,j=2)\n",
    "    sigma_x = dde.grad.jacobian(S, x, i=1, j=0)\n",
    "    sigma_y = dde.grad.jacobian(S, x, i=1, j=1)\n",
    "    sigma_xx = dde.grad.hessian(S, x, component=0, i=0, j=0)\n",
    "    sigma_yy = dde.grad.hessian(S, x, component=0, i=1, j=1)\n",
    "    eq1 = (dC_dt- D_L* (CL_xx + CL_yy)+ Coe * (CL_x * sigma_x+ CL_y * sigma_y+ C_L * (sigma_xx + sigma_yy)))\n",
    "    eq2=sigma_t\n",
    "    return [eq1,eq2]"
   ]
  },
  {
   "cell_type": "code",
   "execution_count": null,
   "metadata": {},
   "outputs": [],
   "source": [
    "#PINN structure\n",
    "C_ic=dde.IC(geomtime, lambda x: 20, lambda x, on_initial: on_initial,component=0)\n",
    "\n",
    "data=dde.data.TimePDE(\n",
    "    geomtime,\n",
    "    pde_C,\n",
    "    [C_ic],\n",
    "    num_domain=800,\n",
    "    num_boundary=1000,\n",
    "    num_initial=500,\n",
    "    num_test=1000\n",
    ")\n",
    "layer=[3]+[64]*10+[2]\n",
    "net=dde.maps.FNN(layer,\"tanh\",\"Glorot uniform\")\n",
    "model2=dde.Model(data,net)\n",
    "model2.compile(\"adam\",lr=0.0001)\n",
    "losshistory, trainstate=model2.train(iterations=20000)\n",
    "dde.saveplot(losshistory,trainstate,issave=True, isplot=True)\n",
    "\n",
    "\n"
   ]
  },
  {
   "cell_type": "code",
   "execution_count": 65,
   "metadata": {},
   "outputs": [
    {
     "ename": "ValueError",
     "evalue": "setting an array element with a sequence. The requested array has an inhomogeneous shape after 1 dimensions. The detected shape was (3,) + inhomogeneous part.",
     "output_type": "error",
     "traceback": [
      "\u001b[1;31m---------------------------------------------------------------------------\u001b[0m",
      "\u001b[1;31mValueError\u001b[0m                                Traceback (most recent call last)",
      "Cell \u001b[1;32mIn[65], line 21\u001b[0m\n\u001b[0;32m     18\u001b[0m \u001b[38;5;28;01mfor\u001b[39;00m i \u001b[38;5;129;01min\u001b[39;00m \u001b[38;5;28mrange\u001b[39m(X\u001b[38;5;241m.\u001b[39mshape[\u001b[38;5;241m0\u001b[39m]):\n\u001b[0;32m     19\u001b[0m     \u001b[38;5;28;01mfor\u001b[39;00m j \u001b[38;5;129;01min\u001b[39;00m \u001b[38;5;28mrange\u001b[39m(Y\u001b[38;5;241m.\u001b[39mshape[\u001b[38;5;241m0\u001b[39m]):\n\u001b[0;32m     20\u001b[0m         \u001b[38;5;66;03m# Pass individual x, y, t values to model.predict()\u001b[39;00m\n\u001b[1;32m---> 21\u001b[0m         predictions[i, j] \u001b[38;5;241m=\u001b[39m \u001b[43mmodel\u001b[49m\u001b[38;5;241;43m.\u001b[39;49m\u001b[43mpredict\u001b[49m\u001b[43m(\u001b[49m\u001b[43m[\u001b[49m\u001b[43mX\u001b[49m\u001b[43m[\u001b[49m\u001b[43mi\u001b[49m\u001b[43m]\u001b[49m\u001b[43m,\u001b[49m\u001b[43m \u001b[49m\u001b[43mY\u001b[49m\u001b[43m[\u001b[49m\u001b[43mj\u001b[49m\u001b[43m]\u001b[49m\u001b[43m,\u001b[49m\u001b[43m \u001b[49m\u001b[43mt\u001b[49m\u001b[43m]\u001b[49m\u001b[43m)\u001b[49m[\u001b[38;5;241m0\u001b[39m]\n\u001b[0;32m     22\u001b[0m \u001b[38;5;66;03m# Apply mask for the central hole\u001b[39;00m\n\u001b[0;32m     23\u001b[0m predictions[hole_mask] \u001b[38;5;241m=\u001b[39m np\u001b[38;5;241m.\u001b[39mnan\n",
      "File \u001b[1;32m~\\AppData\\Local\\Packages\\PythonSoftwareFoundation.Python.3.11_qbz5n2kfra8p0\\LocalCache\\local-packages\\Python311\\site-packages\\deepxde\\model.py:891\u001b[0m, in \u001b[0;36mModel.predict\u001b[1;34m(self, x, operator, callbacks)\u001b[0m\n\u001b[0;32m    889\u001b[0m     x \u001b[38;5;241m=\u001b[39m \u001b[38;5;28mtuple\u001b[39m(np\u001b[38;5;241m.\u001b[39masarray(xi, dtype\u001b[38;5;241m=\u001b[39mconfig\u001b[38;5;241m.\u001b[39mreal(np)) \u001b[38;5;28;01mfor\u001b[39;00m xi \u001b[38;5;129;01min\u001b[39;00m x)\n\u001b[0;32m    890\u001b[0m \u001b[38;5;28;01melse\u001b[39;00m:\n\u001b[1;32m--> 891\u001b[0m     x \u001b[38;5;241m=\u001b[39m np\u001b[38;5;241m.\u001b[39masarray(x, dtype\u001b[38;5;241m=\u001b[39mconfig\u001b[38;5;241m.\u001b[39mreal(np))\n\u001b[0;32m    892\u001b[0m callbacks \u001b[38;5;241m=\u001b[39m CallbackList(callbacks\u001b[38;5;241m=\u001b[39mcallbacks)\n\u001b[0;32m    893\u001b[0m callbacks\u001b[38;5;241m.\u001b[39mset_model(\u001b[38;5;28mself\u001b[39m)\n",
      "\u001b[1;31mValueError\u001b[0m: setting an array element with a sequence. The requested array has an inhomogeneous shape after 1 dimensions. The detected shape was (3,) + inhomogeneous part."
     ]
    }
   ],
   "source": [
    "#Plot\n",
    "model=model1\n",
    "length=6e-2\n",
    "time_steps = 100\n",
    "radius = 4e-3\n",
    "\n",
    "x = np.linspace(0, length, 100)\n",
    "y = np.linspace(0, length, 100)\n",
    "X, Y = np.meshgrid(x, y)\n",
    "data = np.zeros((time_steps, len(x), len(y)))\n",
    "hole_mask = (X**2 + Y**2) < radius**2  \n",
    "\n",
    "# Prepare data storage\n",
    "data = []\n",
    "\n",
    "# Generate frames for each time step\n",
    "for t in range(time_steps):\n",
    "    for i in range(X.shape[0]):\n",
    "        for j in range(Y.shape[0]):\n",
    "            # Pass individual x, y, t values to model.predict()\n",
    "            predictions[i, j] = model.predict([X[i], Y[j], t])[0]\n",
    "    # Apply mask for the central hole\n",
    "    predictions[hole_mask] = np.nan\n",
    "    # Append predictions to data\n",
    "    data.append(predictions)\n",
    "\n",
    "    \n",
    "# Initialize the plot\n",
    "fig, ax = plt.subplots()\n",
    "contour = ax.imshow(data[0], extent=[-5, 5, -5, 5], origin=\"lower\", cmap=\"viridis\")\n",
    "fig.colorbar(contour)\n",
    "\n",
    "# Update function for each frame\n",
    "def update(frame):\n",
    "    contour.set_data(data[frame])\n",
    "    return [contour]\n",
    "\n",
    "# Create the animation\n",
    "anim = FuncAnimation(fig, update, frames=time_steps, interval=50, blit=True)\n",
    "anim.save(\"animation.gif\", writer=\"imagemagick\")\n",
    "# Display the animation\n",
    "display(Image(filename=\"animation.gif\"))"
   ]
  }
 ],
 "metadata": {
  "kernelspec": {
   "display_name": "Python 3",
   "language": "python",
   "name": "python3"
  },
  "language_info": {
   "codemirror_mode": {
    "name": "ipython",
    "version": 3
   },
   "file_extension": ".py",
   "mimetype": "text/x-python",
   "name": "python",
   "nbconvert_exporter": "python",
   "pygments_lexer": "ipython3",
   "version": "3.11.9"
  }
 },
 "nbformat": 4,
 "nbformat_minor": 2
}
