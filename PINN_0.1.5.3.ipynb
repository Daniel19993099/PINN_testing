{
 "cells": [
  {
   "cell_type": "code",
   "execution_count": 4,
   "metadata": {},
   "outputs": [
    {
     "ename": "TypeError",
     "evalue": "<lambda>() takes 1 positional argument but 2 were given",
     "output_type": "error",
     "traceback": [
      "\u001b[1;31m---------------------------------------------------------------------------\u001b[0m",
      "\u001b[1;31mTypeError\u001b[0m                                 Traceback (most recent call last)",
      "Cell \u001b[1;32mIn[4], line 41\u001b[0m\n\u001b[0;32m     36\u001b[0m bc \u001b[38;5;241m=\u001b[39m dde\u001b[38;5;241m.\u001b[39micbc\u001b[38;5;241m.\u001b[39mDirichletBC(geomtime, func, \u001b[38;5;28;01mlambda\u001b[39;00m x: np\u001b[38;5;241m.\u001b[39mzeros((\u001b[38;5;28mlen\u001b[39m(x))), component\u001b[38;5;241m=\u001b[39m\u001b[38;5;241m0\u001b[39m)\n\u001b[0;32m     37\u001b[0m ic \u001b[38;5;241m=\u001b[39m dde\u001b[38;5;241m.\u001b[39micbc\u001b[38;5;241m.\u001b[39mIC(geomtime, func, \u001b[38;5;28;01mlambda\u001b[39;00m x: np\u001b[38;5;241m.\u001b[39mzeros((\u001b[38;5;28mlen\u001b[39m(x))), component\u001b[38;5;241m=\u001b[39m\u001b[38;5;241m0\u001b[39m)\n\u001b[1;32m---> 41\u001b[0m data \u001b[38;5;241m=\u001b[39m dde\u001b[38;5;241m.\u001b[39mdata\u001b[38;5;241m.\u001b[39mTimePDE(geomtime, pde, [bc, ic], num_domain\u001b[38;5;241m=\u001b[39m\u001b[38;5;241m400\u001b[39m, solution\u001b[38;5;241m=\u001b[39mfunc, num_boundary\u001b[38;5;241m=\u001b[39m\u001b[38;5;241m200\u001b[39m, num_test\u001b[38;5;241m=\u001b[39m\u001b[38;5;241m10000\u001b[39m)\n\u001b[0;32m     43\u001b[0m layer_size \u001b[38;5;241m=\u001b[39m [\u001b[38;5;241m2\u001b[39m] \u001b[38;5;241m+\u001b[39m [\u001b[38;5;241m32\u001b[39m] \u001b[38;5;241m*\u001b[39m \u001b[38;5;241m3\u001b[39m \u001b[38;5;241m+\u001b[39m [\u001b[38;5;241m1\u001b[39m]\n\u001b[0;32m     44\u001b[0m activation \u001b[38;5;241m=\u001b[39m \u001b[38;5;124m\"\u001b[39m\u001b[38;5;124mtanh\u001b[39m\u001b[38;5;124m\"\u001b[39m\n",
      "File \u001b[1;32mc:\\Users\\yesda\\anaconda3\\Lib\\site-packages\\deepxde\\data\\pde.py:328\u001b[0m, in \u001b[0;36mTimePDE.__init__\u001b[1;34m(self, geometryxtime, pde, ic_bcs, num_domain, num_boundary, num_initial, train_distribution, anchors, exclusions, solution, num_test, auxiliary_var_function)\u001b[0m\n\u001b[0;32m    312\u001b[0m \u001b[38;5;28;01mdef\u001b[39;00m \u001b[38;5;21m__init__\u001b[39m(\n\u001b[0;32m    313\u001b[0m     \u001b[38;5;28mself\u001b[39m,\n\u001b[0;32m    314\u001b[0m     geometryxtime,\n\u001b[1;32m   (...)\u001b[0m\n\u001b[0;32m    325\u001b[0m     auxiliary_var_function\u001b[38;5;241m=\u001b[39m\u001b[38;5;28;01mNone\u001b[39;00m,\n\u001b[0;32m    326\u001b[0m ):\n\u001b[0;32m    327\u001b[0m     \u001b[38;5;28mself\u001b[39m\u001b[38;5;241m.\u001b[39mnum_initial \u001b[38;5;241m=\u001b[39m num_initial\n\u001b[1;32m--> 328\u001b[0m     \u001b[38;5;28msuper\u001b[39m()\u001b[38;5;241m.\u001b[39m\u001b[38;5;21m__init__\u001b[39m(\n\u001b[0;32m    329\u001b[0m         geometryxtime,\n\u001b[0;32m    330\u001b[0m         pde,\n\u001b[0;32m    331\u001b[0m         ic_bcs,\n\u001b[0;32m    332\u001b[0m         num_domain,\n\u001b[0;32m    333\u001b[0m         num_boundary,\n\u001b[0;32m    334\u001b[0m         train_distribution\u001b[38;5;241m=\u001b[39mtrain_distribution,\n\u001b[0;32m    335\u001b[0m         anchors\u001b[38;5;241m=\u001b[39manchors,\n\u001b[0;32m    336\u001b[0m         exclusions\u001b[38;5;241m=\u001b[39mexclusions,\n\u001b[0;32m    337\u001b[0m         solution\u001b[38;5;241m=\u001b[39msolution,\n\u001b[0;32m    338\u001b[0m         num_test\u001b[38;5;241m=\u001b[39mnum_test,\n\u001b[0;32m    339\u001b[0m         auxiliary_var_function\u001b[38;5;241m=\u001b[39mauxiliary_var_function,\n\u001b[0;32m    340\u001b[0m     )\n",
      "File \u001b[1;32mc:\\Users\\yesda\\anaconda3\\Lib\\site-packages\\deepxde\\data\\pde.py:127\u001b[0m, in \u001b[0;36mPDE.__init__\u001b[1;34m(self, geometry, pde, bcs, num_domain, num_boundary, train_distribution, anchors, exclusions, solution, num_test, auxiliary_var_function)\u001b[0m\n\u001b[0;32m    124\u001b[0m \u001b[38;5;28mself\u001b[39m\u001b[38;5;241m.\u001b[39mtest_x, \u001b[38;5;28mself\u001b[39m\u001b[38;5;241m.\u001b[39mtest_y \u001b[38;5;241m=\u001b[39m \u001b[38;5;28;01mNone\u001b[39;00m, \u001b[38;5;28;01mNone\u001b[39;00m\n\u001b[0;32m    125\u001b[0m \u001b[38;5;28mself\u001b[39m\u001b[38;5;241m.\u001b[39mtrain_aux_vars, \u001b[38;5;28mself\u001b[39m\u001b[38;5;241m.\u001b[39mtest_aux_vars \u001b[38;5;241m=\u001b[39m \u001b[38;5;28;01mNone\u001b[39;00m, \u001b[38;5;28;01mNone\u001b[39;00m\n\u001b[1;32m--> 127\u001b[0m \u001b[38;5;28mself\u001b[39m\u001b[38;5;241m.\u001b[39mtrain_next_batch()\n\u001b[0;32m    128\u001b[0m \u001b[38;5;28mself\u001b[39m\u001b[38;5;241m.\u001b[39mtest()\n",
      "File \u001b[1;32mc:\\Users\\yesda\\anaconda3\\Lib\\site-packages\\deepxde\\utils\\internal.py:38\u001b[0m, in \u001b[0;36mrun_if_all_none.<locals>.decorator.<locals>.wrapper\u001b[1;34m(self, *args, **kwargs)\u001b[0m\n\u001b[0;32m     36\u001b[0m x \u001b[38;5;241m=\u001b[39m [\u001b[38;5;28mgetattr\u001b[39m(\u001b[38;5;28mself\u001b[39m, a) \u001b[38;5;28;01mfor\u001b[39;00m a \u001b[38;5;129;01min\u001b[39;00m attr]\n\u001b[0;32m     37\u001b[0m \u001b[38;5;28;01mif\u001b[39;00m \u001b[38;5;28mall\u001b[39m(i \u001b[38;5;129;01mis\u001b[39;00m \u001b[38;5;28;01mNone\u001b[39;00m \u001b[38;5;28;01mfor\u001b[39;00m i \u001b[38;5;129;01min\u001b[39;00m x):\n\u001b[1;32m---> 38\u001b[0m     \u001b[38;5;28;01mreturn\u001b[39;00m func(\u001b[38;5;28mself\u001b[39m, \u001b[38;5;241m*\u001b[39margs, \u001b[38;5;241m*\u001b[39m\u001b[38;5;241m*\u001b[39mkwargs)\n\u001b[0;32m     39\u001b[0m \u001b[38;5;28;01mreturn\u001b[39;00m x \u001b[38;5;28;01mif\u001b[39;00m \u001b[38;5;28mlen\u001b[39m(x) \u001b[38;5;241m>\u001b[39m \u001b[38;5;241m1\u001b[39m \u001b[38;5;28;01melse\u001b[39;00m x[\u001b[38;5;241m0\u001b[39m]\n",
      "File \u001b[1;32mc:\\Users\\yesda\\anaconda3\\Lib\\site-packages\\deepxde\\data\\pde.py:182\u001b[0m, in \u001b[0;36mPDE.train_next_batch\u001b[1;34m(self, batch_size)\u001b[0m\n\u001b[0;32m    179\u001b[0m \u001b[38;5;129m@run_if_all_none\u001b[39m(\u001b[38;5;124m\"\u001b[39m\u001b[38;5;124mtrain_x\u001b[39m\u001b[38;5;124m\"\u001b[39m, \u001b[38;5;124m\"\u001b[39m\u001b[38;5;124mtrain_y\u001b[39m\u001b[38;5;124m\"\u001b[39m, \u001b[38;5;124m\"\u001b[39m\u001b[38;5;124mtrain_aux_vars\u001b[39m\u001b[38;5;124m\"\u001b[39m)\n\u001b[0;32m    180\u001b[0m \u001b[38;5;28;01mdef\u001b[39;00m \u001b[38;5;21mtrain_next_batch\u001b[39m(\u001b[38;5;28mself\u001b[39m, batch_size\u001b[38;5;241m=\u001b[39m\u001b[38;5;28;01mNone\u001b[39;00m):\n\u001b[0;32m    181\u001b[0m     \u001b[38;5;28mself\u001b[39m\u001b[38;5;241m.\u001b[39mtrain_x_all \u001b[38;5;241m=\u001b[39m \u001b[38;5;28mself\u001b[39m\u001b[38;5;241m.\u001b[39mtrain_points()\n\u001b[1;32m--> 182\u001b[0m     \u001b[38;5;28mself\u001b[39m\u001b[38;5;241m.\u001b[39mbc_points()  \u001b[38;5;66;03m# Generate self.num_bcs and self.train_x_bc\u001b[39;00m\n\u001b[0;32m    183\u001b[0m     \u001b[38;5;28;01mif\u001b[39;00m \u001b[38;5;28mself\u001b[39m\u001b[38;5;241m.\u001b[39mbcs \u001b[38;5;129;01mand\u001b[39;00m config\u001b[38;5;241m.\u001b[39mhvd \u001b[38;5;129;01mis\u001b[39;00m \u001b[38;5;129;01mnot\u001b[39;00m \u001b[38;5;28;01mNone\u001b[39;00m:\n\u001b[0;32m    184\u001b[0m         num_bcs \u001b[38;5;241m=\u001b[39m np\u001b[38;5;241m.\u001b[39marray(\u001b[38;5;28mself\u001b[39m\u001b[38;5;241m.\u001b[39mnum_bcs)\n",
      "File \u001b[1;32mc:\\Users\\yesda\\anaconda3\\Lib\\site-packages\\deepxde\\utils\\internal.py:38\u001b[0m, in \u001b[0;36mrun_if_all_none.<locals>.decorator.<locals>.wrapper\u001b[1;34m(self, *args, **kwargs)\u001b[0m\n\u001b[0;32m     36\u001b[0m x \u001b[38;5;241m=\u001b[39m [\u001b[38;5;28mgetattr\u001b[39m(\u001b[38;5;28mself\u001b[39m, a) \u001b[38;5;28;01mfor\u001b[39;00m a \u001b[38;5;129;01min\u001b[39;00m attr]\n\u001b[0;32m     37\u001b[0m \u001b[38;5;28;01mif\u001b[39;00m \u001b[38;5;28mall\u001b[39m(i \u001b[38;5;129;01mis\u001b[39;00m \u001b[38;5;28;01mNone\u001b[39;00m \u001b[38;5;28;01mfor\u001b[39;00m i \u001b[38;5;129;01min\u001b[39;00m x):\n\u001b[1;32m---> 38\u001b[0m     \u001b[38;5;28;01mreturn\u001b[39;00m func(\u001b[38;5;28mself\u001b[39m, \u001b[38;5;241m*\u001b[39margs, \u001b[38;5;241m*\u001b[39m\u001b[38;5;241m*\u001b[39mkwargs)\n\u001b[0;32m     39\u001b[0m \u001b[38;5;28;01mreturn\u001b[39;00m x \u001b[38;5;28;01mif\u001b[39;00m \u001b[38;5;28mlen\u001b[39m(x) \u001b[38;5;241m>\u001b[39m \u001b[38;5;241m1\u001b[39m \u001b[38;5;28;01melse\u001b[39;00m x[\u001b[38;5;241m0\u001b[39m]\n",
      "File \u001b[1;32mc:\\Users\\yesda\\anaconda3\\Lib\\site-packages\\deepxde\\data\\pde.py:288\u001b[0m, in \u001b[0;36mPDE.bc_points\u001b[1;34m(self)\u001b[0m\n\u001b[0;32m    286\u001b[0m \u001b[38;5;129m@run_if_all_none\u001b[39m(\u001b[38;5;124m\"\u001b[39m\u001b[38;5;124mtrain_x_bc\u001b[39m\u001b[38;5;124m\"\u001b[39m)\n\u001b[0;32m    287\u001b[0m \u001b[38;5;28;01mdef\u001b[39;00m \u001b[38;5;21mbc_points\u001b[39m(\u001b[38;5;28mself\u001b[39m):\n\u001b[1;32m--> 288\u001b[0m     x_bcs \u001b[38;5;241m=\u001b[39m [bc\u001b[38;5;241m.\u001b[39mcollocation_points(\u001b[38;5;28mself\u001b[39m\u001b[38;5;241m.\u001b[39mtrain_x_all) \u001b[38;5;28;01mfor\u001b[39;00m bc \u001b[38;5;129;01min\u001b[39;00m \u001b[38;5;28mself\u001b[39m\u001b[38;5;241m.\u001b[39mbcs]\n\u001b[0;32m    289\u001b[0m     \u001b[38;5;28mself\u001b[39m\u001b[38;5;241m.\u001b[39mnum_bcs \u001b[38;5;241m=\u001b[39m \u001b[38;5;28mlist\u001b[39m(\u001b[38;5;28mmap\u001b[39m(\u001b[38;5;28mlen\u001b[39m, x_bcs))\n\u001b[0;32m    290\u001b[0m     \u001b[38;5;28mself\u001b[39m\u001b[38;5;241m.\u001b[39mtrain_x_bc \u001b[38;5;241m=\u001b[39m (\n\u001b[0;32m    291\u001b[0m         np\u001b[38;5;241m.\u001b[39mvstack(x_bcs)\n\u001b[0;32m    292\u001b[0m         \u001b[38;5;28;01mif\u001b[39;00m x_bcs\n\u001b[0;32m    293\u001b[0m         \u001b[38;5;28;01melse\u001b[39;00m np\u001b[38;5;241m.\u001b[39mempty([\u001b[38;5;241m0\u001b[39m, \u001b[38;5;28mself\u001b[39m\u001b[38;5;241m.\u001b[39mtrain_x_all\u001b[38;5;241m.\u001b[39mshape[\u001b[38;5;241m-\u001b[39m\u001b[38;5;241m1\u001b[39m]], dtype\u001b[38;5;241m=\u001b[39mconfig\u001b[38;5;241m.\u001b[39mreal(np))\n\u001b[0;32m    294\u001b[0m     )\n",
      "File \u001b[1;32mc:\\Users\\yesda\\anaconda3\\Lib\\site-packages\\deepxde\\data\\pde.py:288\u001b[0m, in \u001b[0;36m<listcomp>\u001b[1;34m(.0)\u001b[0m\n\u001b[0;32m    286\u001b[0m \u001b[38;5;129m@run_if_all_none\u001b[39m(\u001b[38;5;124m\"\u001b[39m\u001b[38;5;124mtrain_x_bc\u001b[39m\u001b[38;5;124m\"\u001b[39m)\n\u001b[0;32m    287\u001b[0m \u001b[38;5;28;01mdef\u001b[39;00m \u001b[38;5;21mbc_points\u001b[39m(\u001b[38;5;28mself\u001b[39m):\n\u001b[1;32m--> 288\u001b[0m     x_bcs \u001b[38;5;241m=\u001b[39m [bc\u001b[38;5;241m.\u001b[39mcollocation_points(\u001b[38;5;28mself\u001b[39m\u001b[38;5;241m.\u001b[39mtrain_x_all) \u001b[38;5;28;01mfor\u001b[39;00m bc \u001b[38;5;129;01min\u001b[39;00m \u001b[38;5;28mself\u001b[39m\u001b[38;5;241m.\u001b[39mbcs]\n\u001b[0;32m    289\u001b[0m     \u001b[38;5;28mself\u001b[39m\u001b[38;5;241m.\u001b[39mnum_bcs \u001b[38;5;241m=\u001b[39m \u001b[38;5;28mlist\u001b[39m(\u001b[38;5;28mmap\u001b[39m(\u001b[38;5;28mlen\u001b[39m, x_bcs))\n\u001b[0;32m    290\u001b[0m     \u001b[38;5;28mself\u001b[39m\u001b[38;5;241m.\u001b[39mtrain_x_bc \u001b[38;5;241m=\u001b[39m (\n\u001b[0;32m    291\u001b[0m         np\u001b[38;5;241m.\u001b[39mvstack(x_bcs)\n\u001b[0;32m    292\u001b[0m         \u001b[38;5;28;01mif\u001b[39;00m x_bcs\n\u001b[0;32m    293\u001b[0m         \u001b[38;5;28;01melse\u001b[39;00m np\u001b[38;5;241m.\u001b[39mempty([\u001b[38;5;241m0\u001b[39m, \u001b[38;5;28mself\u001b[39m\u001b[38;5;241m.\u001b[39mtrain_x_all\u001b[38;5;241m.\u001b[39mshape[\u001b[38;5;241m-\u001b[39m\u001b[38;5;241m1\u001b[39m]], dtype\u001b[38;5;241m=\u001b[39mconfig\u001b[38;5;241m.\u001b[39mreal(np))\n\u001b[0;32m    294\u001b[0m     )\n",
      "File \u001b[1;32mc:\\Users\\yesda\\anaconda3\\Lib\\site-packages\\deepxde\\icbc\\boundary_conditions.py:53\u001b[0m, in \u001b[0;36mBC.collocation_points\u001b[1;34m(self, X)\u001b[0m\n\u001b[0;32m     52\u001b[0m \u001b[38;5;28;01mdef\u001b[39;00m \u001b[38;5;21mcollocation_points\u001b[39m(\u001b[38;5;28mself\u001b[39m, X):\n\u001b[1;32m---> 53\u001b[0m     \u001b[38;5;28;01mreturn\u001b[39;00m \u001b[38;5;28mself\u001b[39m\u001b[38;5;241m.\u001b[39mfilter(X)\n",
      "File \u001b[1;32mc:\\Users\\yesda\\anaconda3\\Lib\\site-packages\\deepxde\\icbc\\boundary_conditions.py:50\u001b[0m, in \u001b[0;36mBC.filter\u001b[1;34m(self, X)\u001b[0m\n\u001b[0;32m     49\u001b[0m \u001b[38;5;28;01mdef\u001b[39;00m \u001b[38;5;21mfilter\u001b[39m(\u001b[38;5;28mself\u001b[39m, X):\n\u001b[1;32m---> 50\u001b[0m     \u001b[38;5;28;01mreturn\u001b[39;00m X[\u001b[38;5;28mself\u001b[39m\u001b[38;5;241m.\u001b[39mon_boundary(X, \u001b[38;5;28mself\u001b[39m\u001b[38;5;241m.\u001b[39mgeom\u001b[38;5;241m.\u001b[39mon_boundary(X))]\n",
      "File \u001b[1;32mc:\\Users\\yesda\\anaconda3\\Lib\\site-packages\\deepxde\\icbc\\boundary_conditions.py:41\u001b[0m, in \u001b[0;36mBC.__init__.<locals>.<lambda>\u001b[1;34m(x, on)\u001b[0m\n\u001b[0;32m     38\u001b[0m \u001b[38;5;28;01mdef\u001b[39;00m \u001b[38;5;21m__init__\u001b[39m(\u001b[38;5;28mself\u001b[39m, geom, on_boundary, component):\n\u001b[0;32m     39\u001b[0m     \u001b[38;5;28mself\u001b[39m\u001b[38;5;241m.\u001b[39mgeom \u001b[38;5;241m=\u001b[39m geom\n\u001b[0;32m     40\u001b[0m     \u001b[38;5;28mself\u001b[39m\u001b[38;5;241m.\u001b[39mon_boundary \u001b[38;5;241m=\u001b[39m \u001b[38;5;28;01mlambda\u001b[39;00m x, on: np\u001b[38;5;241m.\u001b[39marray(\n\u001b[1;32m---> 41\u001b[0m         [on_boundary(x[i], on[i]) \u001b[38;5;28;01mfor\u001b[39;00m i \u001b[38;5;129;01min\u001b[39;00m \u001b[38;5;28mrange\u001b[39m(\u001b[38;5;28mlen\u001b[39m(x))]\n\u001b[0;32m     42\u001b[0m     )\n\u001b[0;32m     43\u001b[0m     \u001b[38;5;28mself\u001b[39m\u001b[38;5;241m.\u001b[39mcomponent \u001b[38;5;241m=\u001b[39m component\n\u001b[0;32m     45\u001b[0m     \u001b[38;5;28mself\u001b[39m\u001b[38;5;241m.\u001b[39mboundary_normal \u001b[38;5;241m=\u001b[39m npfunc_range_autocache(\n\u001b[0;32m     46\u001b[0m         utils\u001b[38;5;241m.\u001b[39mreturn_tensor(\u001b[38;5;28mself\u001b[39m\u001b[38;5;241m.\u001b[39mgeom\u001b[38;5;241m.\u001b[39mboundary_normal)\n\u001b[0;32m     47\u001b[0m     )\n",
      "File \u001b[1;32mc:\\Users\\yesda\\anaconda3\\Lib\\site-packages\\deepxde\\icbc\\boundary_conditions.py:41\u001b[0m, in \u001b[0;36m<listcomp>\u001b[1;34m(.0)\u001b[0m\n\u001b[0;32m     38\u001b[0m \u001b[38;5;28;01mdef\u001b[39;00m \u001b[38;5;21m__init__\u001b[39m(\u001b[38;5;28mself\u001b[39m, geom, on_boundary, component):\n\u001b[0;32m     39\u001b[0m     \u001b[38;5;28mself\u001b[39m\u001b[38;5;241m.\u001b[39mgeom \u001b[38;5;241m=\u001b[39m geom\n\u001b[0;32m     40\u001b[0m     \u001b[38;5;28mself\u001b[39m\u001b[38;5;241m.\u001b[39mon_boundary \u001b[38;5;241m=\u001b[39m \u001b[38;5;28;01mlambda\u001b[39;00m x, on: np\u001b[38;5;241m.\u001b[39marray(\n\u001b[1;32m---> 41\u001b[0m         [on_boundary(x[i], on[i]) \u001b[38;5;28;01mfor\u001b[39;00m i \u001b[38;5;129;01min\u001b[39;00m \u001b[38;5;28mrange\u001b[39m(\u001b[38;5;28mlen\u001b[39m(x))]\n\u001b[0;32m     42\u001b[0m     )\n\u001b[0;32m     43\u001b[0m     \u001b[38;5;28mself\u001b[39m\u001b[38;5;241m.\u001b[39mcomponent \u001b[38;5;241m=\u001b[39m component\n\u001b[0;32m     45\u001b[0m     \u001b[38;5;28mself\u001b[39m\u001b[38;5;241m.\u001b[39mboundary_normal \u001b[38;5;241m=\u001b[39m npfunc_range_autocache(\n\u001b[0;32m     46\u001b[0m         utils\u001b[38;5;241m.\u001b[39mreturn_tensor(\u001b[38;5;28mself\u001b[39m\u001b[38;5;241m.\u001b[39mgeom\u001b[38;5;241m.\u001b[39mboundary_normal)\n\u001b[0;32m     47\u001b[0m     )\n",
      "\u001b[1;31mTypeError\u001b[0m: <lambda>() takes 1 positional argument but 2 were given"
     ]
    }
   ],
   "source": [
    "\"\"\"Backend supported: tensorflow.compat.v1, tensorflow, pytorch, jax, paddle\"\"\"\n",
    "import deepxde as dde\n",
    "import numpy as np\n",
    "\n",
    "from deepxde.backend import tf\n",
    "import matplotlib.pyplot as plt\n",
    "D = 3.8e-11 #m^2/s\n",
    "C0 = 0.0 #moles/m^3\n",
    "C1 = 100 #moles/m^3\n",
    "l = 0.05 #m\n",
    "def pde(x, y):\n",
    "   \n",
    "    dy_t = dde.grad.jacobian(y, x, i=0, j=1)\n",
    "    dy_xx = dde.grad.hessian(y, x, i=0, j=0)\n",
    "  \n",
    "    return (dy_t- D*dy_xx)\n",
    "\n",
    "def f(x):\n",
    "    return np.sin(np.pi * x / l)\n",
    "    \n",
    "def func(x):\n",
    "    n_terms = 2  # Number of terms in the series to approximate the solution\n",
    "    result = C0 + (x[:, 0:1] / l) * (C1 - C0)\n",
    "    for n in range(1, n_terms + 1):\n",
    "        from scipy.integrate import quad\n",
    "        integral, _ = quad(lambda x: f(x) * np.sin(n * np.pi * x/ l), 0, l)\n",
    "        cn = (2 / l) * integral + (2 / (n * np.pi)) * ((-1)**n * (C1 - C0))  \n",
    "        term = cn * np.exp(-n**2 * np.pi**2 * D * x[:, 1:2] / l**2) * np.sin(n * np.pi * x[:, 0:1] / l)\n",
    "        result += term\n",
    "    return result\n",
    "\n",
    "geom = dde.geometry.Interval(0, l)\n",
    "timedomain = dde.geometry.TimeDomain(0, 100)\n",
    "geomtime = dde.geometry.GeometryXTime(geom, timedomain)\n",
    "\n",
    "\n",
    "bc = dde.icbc.DirichletBC(geomtime, func2, lambda x: np.zeros((len(x), 1)))\n",
    "ic = dde.icbc.IC(geomtime, func, lambda x: np.zeros((len(x), 1)))\n",
    "\n",
    "\n",
    "\n",
    "data = dde.data.TimePDE(geomtime, pde, [bc, ic], num_domain=400, solution=func, num_boundary=200, num_test=10000)\n",
    "\n",
    "layer_size = [2] + [32] * 3 + [1]\n",
    "activation = \"tanh\"\n",
    "initializer = \"Glorot uniform\"\n",
    "\n",
    "\n",
    "net = dde.nn.FNN(layer_size, activation, initializer)\n",
    "\n",
    "model = dde.Model(data, net)\n",
    "model.compile(\"adam\", lr=0.0001, metrics=[\"l2 relative error\"])\n",
    "#early_stopping = dde.callbacks.EarlyStopping(min_delta=1e-6, patience=500)\n",
    "losshistory, train_state = model.train(iterations=100000)"
   ]
  }
 ],
 "metadata": {
  "kernelspec": {
   "display_name": "base",
   "language": "python",
   "name": "python3"
  },
  "language_info": {
   "codemirror_mode": {
    "name": "ipython",
    "version": 3
   },
   "file_extension": ".py",
   "mimetype": "text/x-python",
   "name": "python",
   "nbconvert_exporter": "python",
   "pygments_lexer": "ipython3",
   "version": "3.11.7"
  }
 },
 "nbformat": 4,
 "nbformat_minor": 2
}
