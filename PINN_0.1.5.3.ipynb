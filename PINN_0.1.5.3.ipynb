{
 "cells": [
  {
   "cell_type": "code",
   "execution_count": 1,
   "metadata": {},
   "outputs": [
    {
     "name": "stdout",
     "output_type": "stream",
     "text": [
      "WARNING:tensorflow:From c:\\Users\\yesda\\anaconda3\\Lib\\site-packages\\keras\\src\\losses.py:2976: The name tf.losses.sparse_softmax_cross_entropy is deprecated. Please use tf.compat.v1.losses.sparse_softmax_cross_entropy instead.\n",
      "\n"
     ]
    },
    {
     "name": "stderr",
     "output_type": "stream",
     "text": [
      "Using backend: tensorflow.compat.v1\n",
      "Other supported backends: tensorflow, pytorch, jax, paddle.\n",
      "paddle supports more examples now and is recommended.\n"
     ]
    },
    {
     "name": "stdout",
     "output_type": "stream",
     "text": [
      "WARNING:tensorflow:From c:\\Users\\yesda\\anaconda3\\Lib\\site-packages\\deepxde\\backend\\tensorflow_compat_v1\\tensor.py:25: The name tf.disable_v2_behavior is deprecated. Please use tf.compat.v1.disable_v2_behavior instead.\n",
      "\n",
      "WARNING:tensorflow:From c:\\Users\\yesda\\anaconda3\\Lib\\site-packages\\tensorflow\\python\\compat\\v2_compat.py:108: disable_resource_variables (from tensorflow.python.ops.variable_scope) is deprecated and will be removed in a future version.\n",
      "Instructions for updating:\n",
      "non-resource variables are not supported in the long term\n"
     ]
    },
    {
     "ename": "NameError",
     "evalue": "name 'func2' is not defined",
     "output_type": "error",
     "traceback": [
      "\u001b[1;31m---------------------------------------------------------------------------\u001b[0m",
      "\u001b[1;31mNameError\u001b[0m                                 Traceback (most recent call last)",
      "Cell \u001b[1;32mIn[1], line 37\u001b[0m\n\u001b[0;32m     33\u001b[0m timedomain \u001b[38;5;241m=\u001b[39m dde\u001b[38;5;241m.\u001b[39mgeometry\u001b[38;5;241m.\u001b[39mTimeDomain(\u001b[38;5;241m0\u001b[39m, \u001b[38;5;241m100\u001b[39m)\n\u001b[0;32m     34\u001b[0m geomtime \u001b[38;5;241m=\u001b[39m dde\u001b[38;5;241m.\u001b[39mgeometry\u001b[38;5;241m.\u001b[39mGeometryXTime(geom, timedomain)\n\u001b[1;32m---> 37\u001b[0m bc \u001b[38;5;241m=\u001b[39m dde\u001b[38;5;241m.\u001b[39micbc\u001b[38;5;241m.\u001b[39mDirichletBC(geomtime, func2, \u001b[38;5;28;01mlambda\u001b[39;00m x: np\u001b[38;5;241m.\u001b[39mzeros((\u001b[38;5;28mlen\u001b[39m(x), \u001b[38;5;241m1\u001b[39m)))\n\u001b[0;32m     38\u001b[0m ic \u001b[38;5;241m=\u001b[39m dde\u001b[38;5;241m.\u001b[39micbc\u001b[38;5;241m.\u001b[39mIC(geomtime, func, \u001b[38;5;28;01mlambda\u001b[39;00m x: np\u001b[38;5;241m.\u001b[39mzeros((\u001b[38;5;28mlen\u001b[39m(x), \u001b[38;5;241m1\u001b[39m)))\n\u001b[0;32m     42\u001b[0m data \u001b[38;5;241m=\u001b[39m dde\u001b[38;5;241m.\u001b[39mdata\u001b[38;5;241m.\u001b[39mTimePDE(geomtime, pde, [bc, ic], num_domain\u001b[38;5;241m=\u001b[39m\u001b[38;5;241m400\u001b[39m, solution\u001b[38;5;241m=\u001b[39mfunc, num_boundary\u001b[38;5;241m=\u001b[39m\u001b[38;5;241m200\u001b[39m, num_test\u001b[38;5;241m=\u001b[39m\u001b[38;5;241m10000\u001b[39m)\n",
      "\u001b[1;31mNameError\u001b[0m: name 'func2' is not defined"
     ]
    }
   ],
   "source": [
    "\"\"\"Backend supported: tensorflow.compat.v1, tensorflow, pytorch, jax, paddle\"\"\"\n",
    "import deepxde as dde\n",
    "import numpy as np\n",
    "\n",
    "from deepxde.backend import tf\n",
    "import matplotlib.pyplot as plt\n",
    "D = 3.8e-11 #m^2/s\n",
    "C0 = 0.0 #moles/m^3\n",
    "C1 = 100 #moles/m^3\n",
    "l = 0.05 #m\n",
    "def pde(x, y):\n",
    "   \n",
    "    dy_t = dde.grad.jacobian(y, x, i=0, j=1)\n",
    "    dy_xx = dde.grad.hessian(y, x, i=0, j=0)\n",
    "  \n",
    "    return (dy_t- D*dy_xx)\n",
    "\n",
    "def f(x):\n",
    "    return np.sin(np.pi * x / l)\n",
    "    \n",
    "def func(x):\n",
    "    n_terms = 2  # Number of terms in the series to approximate the solution\n",
    "    result = C0 + (x[:, 0:1] / l) * (C1 - C0)\n",
    "    for n in range(1, n_terms + 1):\n",
    "        from scipy.integrate import quad\n",
    "        integral, _ = quad(lambda x: f(x) * np.sin(n * np.pi * x/ l), 0, l)\n",
    "        cn = (2 / l) * integral + (2 / (n * np.pi)) * ((-1)**n * (C1 - C0))  \n",
    "        term = cn * np.exp(-n**2 * np.pi**2 * D * x[:, 1:2] / l**2) * np.sin(n * np.pi * x[:, 0:1] / l)\n",
    "        result += term\n",
    "    return result\n",
    "\n",
    "geom = dde.geometry.Interval(0, l)\n",
    "timedomain = dde.geometry.TimeDomain(0, 100)\n",
    "geomtime = dde.geometry.GeometryXTime(geom, timedomain)\n",
    "\n",
    "\n",
    "bc = dde.icbc.DirichletBC(geomtime, func, lambda x: np.zeros((len(x), 1)))\n",
    "ic = dde.icbc.IC(geomtime, func, lambda x: np.zeros((len(x), 1)))\n",
    "\n",
    "\n",
    "\n",
    "data = dde.data.TimePDE(geomtime, pde, [bc, ic], num_domain=400, solution=func, num_boundary=200, num_test=10000)\n",
    "\n",
    "layer_size = [2] + [32] * 3 + [1]\n",
    "activation = \"tanh\"\n",
    "initializer = \"Glorot uniform\"\n",
    "\n",
    "\n",
    "net = dde.nn.FNN(layer_size, activation, initializer)\n",
    "\n",
    "model = dde.Model(data, net)\n",
    "model.compile(\"adam\", lr=0.0001, metrics=[\"l2 relative error\"])\n",
    "#early_stopping = dde.callbacks.EarlyStopping(min_delta=1e-6, patience=500)\n",
    "losshistory, train_state = model.train(iterations=100000)"
   ]
  }
 ],
 "metadata": {
  "kernelspec": {
   "display_name": "base",
   "language": "python",
   "name": "python3"
  },
  "language_info": {
   "codemirror_mode": {
    "name": "ipython",
    "version": 3
   },
   "file_extension": ".py",
   "mimetype": "text/x-python",
   "name": "python",
   "nbconvert_exporter": "python",
   "pygments_lexer": "ipython3",
   "version": "3.11.7"
  }
 },
 "nbformat": 4,
 "nbformat_minor": 2
}
