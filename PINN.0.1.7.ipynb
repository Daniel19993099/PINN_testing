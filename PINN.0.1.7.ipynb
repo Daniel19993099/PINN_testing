{
 "cells": [
  {
   "cell_type": "code",
   "execution_count": 7,
   "metadata": {},
   "outputs": [
    {
     "name": "stdout",
     "output_type": "stream",
     "text": [
      "<deepxde.icbc.boundary_conditions.PointSetBC object at 0x00000168A7F5C6D0>\n",
      "Compiling model...\n",
      "Building feed-forward neural network...\n",
      "'build' took 0.074394 s\n",
      "\n"
     ]
    },
    {
     "name": "stderr",
     "output_type": "stream",
     "text": [
      "c:\\Users\\yesda\\anaconda3\\Lib\\site-packages\\deepxde\\nn\\tensorflow_compat_v1\\fnn.py:116: UserWarning: `tf.layers.dense` is deprecated and will be removed in a future version. Please use `tf.keras.layers.Dense` instead.\n",
      "  return tf.layers.dense(\n"
     ]
    },
    {
     "name": "stdout",
     "output_type": "stream",
     "text": [
      "'compile' took 1.039636 s\n",
      "\n",
      "Training model...\n",
      "\n"
     ]
    },
    {
     "ename": "TypeError",
     "evalue": "unsupported operand type(s) for -: 'NoneType' and 'float'",
     "output_type": "error",
     "traceback": [
      "\u001b[1;31m---------------------------------------------------------------------------\u001b[0m",
      "\u001b[1;31mTypeError\u001b[0m                                 Traceback (most recent call last)",
      "Cell \u001b[1;32mIn[7], line 73\u001b[0m\n\u001b[0;32m     71\u001b[0m model \u001b[38;5;241m=\u001b[39m dde\u001b[38;5;241m.\u001b[39mModel(data, net)\n\u001b[0;32m     72\u001b[0m model\u001b[38;5;241m.\u001b[39mcompile(\u001b[38;5;124m\"\u001b[39m\u001b[38;5;124madam\u001b[39m\u001b[38;5;124m\"\u001b[39m, lr\u001b[38;5;241m=\u001b[39m\u001b[38;5;241m0.0001\u001b[39m, metrics\u001b[38;5;241m=\u001b[39m[\u001b[38;5;124m\"\u001b[39m\u001b[38;5;124ml2 relative error\u001b[39m\u001b[38;5;124m\"\u001b[39m])\n\u001b[1;32m---> 73\u001b[0m losshistory, train_state \u001b[38;5;241m=\u001b[39m model\u001b[38;5;241m.\u001b[39mtrain(iterations\u001b[38;5;241m=\u001b[39m\u001b[38;5;241m100000\u001b[39m)\n\u001b[0;32m     74\u001b[0m \u001b[38;5;66;03m#early_stopping = dde.callbacks.EarlyStopping(min_delta=1e-6, patience=500)\u001b[39;00m\n\u001b[0;32m     75\u001b[0m \u001b[38;5;66;03m#losshistory, train_state = model.train(iterations=100, callbacks=[early_stopping])\u001b[39;00m\n\u001b[0;32m     76\u001b[0m dde\u001b[38;5;241m.\u001b[39msaveplot(losshistory, train_state, issave\u001b[38;5;241m=\u001b[39m\u001b[38;5;28;01mTrue\u001b[39;00m, isplot\u001b[38;5;241m=\u001b[39m\u001b[38;5;28;01mTrue\u001b[39;00m)\n",
      "File \u001b[1;32mc:\\Users\\yesda\\anaconda3\\Lib\\site-packages\\deepxde\\utils\\internal.py:22\u001b[0m, in \u001b[0;36mtiming.<locals>.wrapper\u001b[1;34m(*args, **kwargs)\u001b[0m\n\u001b[0;32m     19\u001b[0m \u001b[38;5;129m@wraps\u001b[39m(f)\n\u001b[0;32m     20\u001b[0m \u001b[38;5;28;01mdef\u001b[39;00m \u001b[38;5;21mwrapper\u001b[39m(\u001b[38;5;241m*\u001b[39margs, \u001b[38;5;241m*\u001b[39m\u001b[38;5;241m*\u001b[39mkwargs):\n\u001b[0;32m     21\u001b[0m     ts \u001b[38;5;241m=\u001b[39m timeit\u001b[38;5;241m.\u001b[39mdefault_timer()\n\u001b[1;32m---> 22\u001b[0m     result \u001b[38;5;241m=\u001b[39m f(\u001b[38;5;241m*\u001b[39margs, \u001b[38;5;241m*\u001b[39m\u001b[38;5;241m*\u001b[39mkwargs)\n\u001b[0;32m     23\u001b[0m     te \u001b[38;5;241m=\u001b[39m timeit\u001b[38;5;241m.\u001b[39mdefault_timer()\n\u001b[0;32m     24\u001b[0m     \u001b[38;5;28;01mif\u001b[39;00m config\u001b[38;5;241m.\u001b[39mrank \u001b[38;5;241m==\u001b[39m \u001b[38;5;241m0\u001b[39m:\n",
      "File \u001b[1;32mc:\\Users\\yesda\\anaconda3\\Lib\\site-packages\\deepxde\\model.py:636\u001b[0m, in \u001b[0;36mModel.train\u001b[1;34m(self, iterations, batch_size, display_every, disregard_previous_best, callbacks, model_restore_path, model_save_path, epochs)\u001b[0m\n\u001b[0;32m    634\u001b[0m \u001b[38;5;28mself\u001b[39m\u001b[38;5;241m.\u001b[39mtrain_state\u001b[38;5;241m.\u001b[39mset_data_train(\u001b[38;5;241m*\u001b[39m\u001b[38;5;28mself\u001b[39m\u001b[38;5;241m.\u001b[39mdata\u001b[38;5;241m.\u001b[39mtrain_next_batch(\u001b[38;5;28mself\u001b[39m\u001b[38;5;241m.\u001b[39mbatch_size))\n\u001b[0;32m    635\u001b[0m \u001b[38;5;28mself\u001b[39m\u001b[38;5;241m.\u001b[39mtrain_state\u001b[38;5;241m.\u001b[39mset_data_test(\u001b[38;5;241m*\u001b[39m\u001b[38;5;28mself\u001b[39m\u001b[38;5;241m.\u001b[39mdata\u001b[38;5;241m.\u001b[39mtest())\n\u001b[1;32m--> 636\u001b[0m \u001b[38;5;28mself\u001b[39m\u001b[38;5;241m.\u001b[39m_test()\n\u001b[0;32m    637\u001b[0m \u001b[38;5;28mself\u001b[39m\u001b[38;5;241m.\u001b[39mcallbacks\u001b[38;5;241m.\u001b[39mon_train_begin()\n\u001b[0;32m    638\u001b[0m \u001b[38;5;28;01mif\u001b[39;00m optimizers\u001b[38;5;241m.\u001b[39mis_external_optimizer(\u001b[38;5;28mself\u001b[39m\u001b[38;5;241m.\u001b[39mopt_name):\n",
      "File \u001b[1;32mc:\\Users\\yesda\\anaconda3\\Lib\\site-packages\\deepxde\\model.py:845\u001b[0m, in \u001b[0;36mModel._test\u001b[1;34m(self)\u001b[0m\n\u001b[0;32m    839\u001b[0m     \u001b[38;5;28mself\u001b[39m\u001b[38;5;241m.\u001b[39mtrain_state\u001b[38;5;241m.\u001b[39mmetrics_test \u001b[38;5;241m=\u001b[39m [\n\u001b[0;32m    840\u001b[0m         m(\u001b[38;5;28mself\u001b[39m\u001b[38;5;241m.\u001b[39mtrain_state\u001b[38;5;241m.\u001b[39my_test[i], \u001b[38;5;28mself\u001b[39m\u001b[38;5;241m.\u001b[39mtrain_state\u001b[38;5;241m.\u001b[39my_pred_test[i])\n\u001b[0;32m    841\u001b[0m         \u001b[38;5;28;01mfor\u001b[39;00m m \u001b[38;5;129;01min\u001b[39;00m \u001b[38;5;28mself\u001b[39m\u001b[38;5;241m.\u001b[39mmetrics\n\u001b[0;32m    842\u001b[0m         \u001b[38;5;28;01mfor\u001b[39;00m i \u001b[38;5;129;01min\u001b[39;00m \u001b[38;5;28mrange\u001b[39m(\u001b[38;5;28mlen\u001b[39m(\u001b[38;5;28mself\u001b[39m\u001b[38;5;241m.\u001b[39mtrain_state\u001b[38;5;241m.\u001b[39my_test))\n\u001b[0;32m    843\u001b[0m     ]\n\u001b[0;32m    844\u001b[0m \u001b[38;5;28;01melse\u001b[39;00m:\n\u001b[1;32m--> 845\u001b[0m     \u001b[38;5;28mself\u001b[39m\u001b[38;5;241m.\u001b[39mtrain_state\u001b[38;5;241m.\u001b[39mmetrics_test \u001b[38;5;241m=\u001b[39m [\n\u001b[0;32m    846\u001b[0m         m(\u001b[38;5;28mself\u001b[39m\u001b[38;5;241m.\u001b[39mtrain_state\u001b[38;5;241m.\u001b[39my_test, \u001b[38;5;28mself\u001b[39m\u001b[38;5;241m.\u001b[39mtrain_state\u001b[38;5;241m.\u001b[39my_pred_test)\n\u001b[0;32m    847\u001b[0m         \u001b[38;5;28;01mfor\u001b[39;00m m \u001b[38;5;129;01min\u001b[39;00m \u001b[38;5;28mself\u001b[39m\u001b[38;5;241m.\u001b[39mmetrics\n\u001b[0;32m    848\u001b[0m     ]\n\u001b[0;32m    850\u001b[0m \u001b[38;5;28mself\u001b[39m\u001b[38;5;241m.\u001b[39mtrain_state\u001b[38;5;241m.\u001b[39mupdate_best()\n\u001b[0;32m    851\u001b[0m \u001b[38;5;28mself\u001b[39m\u001b[38;5;241m.\u001b[39mlosshistory\u001b[38;5;241m.\u001b[39mappend(\n\u001b[0;32m    852\u001b[0m     \u001b[38;5;28mself\u001b[39m\u001b[38;5;241m.\u001b[39mtrain_state\u001b[38;5;241m.\u001b[39mstep,\n\u001b[0;32m    853\u001b[0m     \u001b[38;5;28mself\u001b[39m\u001b[38;5;241m.\u001b[39mtrain_state\u001b[38;5;241m.\u001b[39mloss_train,\n\u001b[0;32m    854\u001b[0m     \u001b[38;5;28mself\u001b[39m\u001b[38;5;241m.\u001b[39mtrain_state\u001b[38;5;241m.\u001b[39mloss_test,\n\u001b[0;32m    855\u001b[0m     \u001b[38;5;28mself\u001b[39m\u001b[38;5;241m.\u001b[39mtrain_state\u001b[38;5;241m.\u001b[39mmetrics_test,\n\u001b[0;32m    856\u001b[0m )\n",
      "File \u001b[1;32mc:\\Users\\yesda\\anaconda3\\Lib\\site-packages\\deepxde\\model.py:846\u001b[0m, in \u001b[0;36m<listcomp>\u001b[1;34m(.0)\u001b[0m\n\u001b[0;32m    839\u001b[0m     \u001b[38;5;28mself\u001b[39m\u001b[38;5;241m.\u001b[39mtrain_state\u001b[38;5;241m.\u001b[39mmetrics_test \u001b[38;5;241m=\u001b[39m [\n\u001b[0;32m    840\u001b[0m         m(\u001b[38;5;28mself\u001b[39m\u001b[38;5;241m.\u001b[39mtrain_state\u001b[38;5;241m.\u001b[39my_test[i], \u001b[38;5;28mself\u001b[39m\u001b[38;5;241m.\u001b[39mtrain_state\u001b[38;5;241m.\u001b[39my_pred_test[i])\n\u001b[0;32m    841\u001b[0m         \u001b[38;5;28;01mfor\u001b[39;00m m \u001b[38;5;129;01min\u001b[39;00m \u001b[38;5;28mself\u001b[39m\u001b[38;5;241m.\u001b[39mmetrics\n\u001b[0;32m    842\u001b[0m         \u001b[38;5;28;01mfor\u001b[39;00m i \u001b[38;5;129;01min\u001b[39;00m \u001b[38;5;28mrange\u001b[39m(\u001b[38;5;28mlen\u001b[39m(\u001b[38;5;28mself\u001b[39m\u001b[38;5;241m.\u001b[39mtrain_state\u001b[38;5;241m.\u001b[39my_test))\n\u001b[0;32m    843\u001b[0m     ]\n\u001b[0;32m    844\u001b[0m \u001b[38;5;28;01melse\u001b[39;00m:\n\u001b[0;32m    845\u001b[0m     \u001b[38;5;28mself\u001b[39m\u001b[38;5;241m.\u001b[39mtrain_state\u001b[38;5;241m.\u001b[39mmetrics_test \u001b[38;5;241m=\u001b[39m [\n\u001b[1;32m--> 846\u001b[0m         m(\u001b[38;5;28mself\u001b[39m\u001b[38;5;241m.\u001b[39mtrain_state\u001b[38;5;241m.\u001b[39my_test, \u001b[38;5;28mself\u001b[39m\u001b[38;5;241m.\u001b[39mtrain_state\u001b[38;5;241m.\u001b[39my_pred_test)\n\u001b[0;32m    847\u001b[0m         \u001b[38;5;28;01mfor\u001b[39;00m m \u001b[38;5;129;01min\u001b[39;00m \u001b[38;5;28mself\u001b[39m\u001b[38;5;241m.\u001b[39mmetrics\n\u001b[0;32m    848\u001b[0m     ]\n\u001b[0;32m    850\u001b[0m \u001b[38;5;28mself\u001b[39m\u001b[38;5;241m.\u001b[39mtrain_state\u001b[38;5;241m.\u001b[39mupdate_best()\n\u001b[0;32m    851\u001b[0m \u001b[38;5;28mself\u001b[39m\u001b[38;5;241m.\u001b[39mlosshistory\u001b[38;5;241m.\u001b[39mappend(\n\u001b[0;32m    852\u001b[0m     \u001b[38;5;28mself\u001b[39m\u001b[38;5;241m.\u001b[39mtrain_state\u001b[38;5;241m.\u001b[39mstep,\n\u001b[0;32m    853\u001b[0m     \u001b[38;5;28mself\u001b[39m\u001b[38;5;241m.\u001b[39mtrain_state\u001b[38;5;241m.\u001b[39mloss_train,\n\u001b[0;32m    854\u001b[0m     \u001b[38;5;28mself\u001b[39m\u001b[38;5;241m.\u001b[39mtrain_state\u001b[38;5;241m.\u001b[39mloss_test,\n\u001b[0;32m    855\u001b[0m     \u001b[38;5;28mself\u001b[39m\u001b[38;5;241m.\u001b[39mtrain_state\u001b[38;5;241m.\u001b[39mmetrics_test,\n\u001b[0;32m    856\u001b[0m )\n",
      "File \u001b[1;32mc:\\Users\\yesda\\anaconda3\\Lib\\site-packages\\deepxde\\metrics.py:12\u001b[0m, in \u001b[0;36ml2_relative_error\u001b[1;34m(y_true, y_pred)\u001b[0m\n\u001b[0;32m     11\u001b[0m \u001b[38;5;28;01mdef\u001b[39;00m \u001b[38;5;21ml2_relative_error\u001b[39m(y_true, y_pred):\n\u001b[1;32m---> 12\u001b[0m     \u001b[38;5;28;01mreturn\u001b[39;00m np\u001b[38;5;241m.\u001b[39mlinalg\u001b[38;5;241m.\u001b[39mnorm(y_true \u001b[38;5;241m-\u001b[39m y_pred) \u001b[38;5;241m/\u001b[39m np\u001b[38;5;241m.\u001b[39mlinalg\u001b[38;5;241m.\u001b[39mnorm(y_true)\n",
      "\u001b[1;31mTypeError\u001b[0m: unsupported operand type(s) for -: 'NoneType' and 'float'"
     ]
    }
   ],
   "source": [
    "#Change to point dataset\n",
    "\"\"\"Backend supported: tensorflow.compat.v1, tensorflow, pytorch, jax, paddle\"\"\"\n",
    "import os\n",
    "os.environ[\"CUDA_VISIBLE_DEVICES\"] = \"-1\"  # Disable GPU\n",
    "\n",
    "import deepxde as dde\n",
    "import numpy as np\n",
    "from deepxde.backend import tf\n",
    "import matplotlib.pyplot as plt\n",
    "import tensorflow as tf\n",
    "\n",
    "# Ensure TensorFlow v1 compatibility\n",
    "tf.compat.v1.disable_eager_execution()\n",
    "\n",
    "# Set TensorFlow to use all available cores\n",
    "num_cores = 20\n",
    "config = tf.compat.v1.ConfigProto(intra_op_parallelism_threads=num_cores, inter_op_parallelism_threads=num_cores,allow_soft_placement=True,device_count={'CPU': num_cores})\n",
    "session = tf.compat.v1.Session(config=config)\n",
    "tf.compat.v1.keras.backend.set_session(session)\n",
    "\n",
    "# List available devices\n",
    "from tensorflow.python.client import device_lib\n",
    "\n",
    "D = 3.8e-11 #m^2/s\n",
    "C0 = 0.0 #moles/m^3\n",
    "C1 = 10 #moles/m^3\n",
    "l = 0.05 #m\n",
    "t = 1e2 #s\n",
    "\n",
    "def pde(x, y):\n",
    "    dy_t = dde.grad.jacobian(y, x, i=0, j=1)\n",
    "    dy_xx = dde.grad.hessian(y, x, i=0, j=0)\n",
    "    return (dy_t- D*dy_xx)\n",
    "\n",
    "data_points = np.matrix([[0.04, 300, 65.7],\n",
    "                [0.03, 1e8, 60],\n",
    "                [0.04, 2000, 65.2],\n",
    "                [0.025, 8e6, 11.7],\n",
    "                [0.037, 42e5, 29.7]])\n",
    "\n",
    "\n",
    "tt=np.reshape(data_points[:, 1], (-1,1))\n",
    "xx=np.reshape(data_points[:, 0], (-1,1))\n",
    "cc=np.reshape(data_points[:, 2], (-1,1))\n",
    "\n",
    "\n",
    "\n",
    "geom = dde.geometry.Interval(0, l)\n",
    "timedomain = dde.geometry.TimeDomain(0, t)\n",
    "geomtime = dde.geometry.GeometryXTime(geom, timedomain)\n",
    "\n",
    "#bc = dde.icbc.DirichletBC(geomtime, lambda x: (x[:, 0]/ l) * 10, lambda _, on_boundary: on_boundary)\n",
    "observe_x= np.reshape(np.hstack((xx,tt)),(-1,2))\n",
    "observe_y = dde.icbc.PointSetBC(observe_x, cc, component=0)\n",
    "print(observe_y)\n",
    "data = dde.data.TimePDE(\n",
    "    geomtime,\n",
    "    pde,\n",
    "    [observe_y],\n",
    "    num_domain=2000,\n",
    "    num_boundary=100,\n",
    "    num_initial=100,\n",
    "    anchors=observe_x,\n",
    "    num_test=50000,\n",
    ")\n",
    "\n",
    "layer_size = [2] + [32] * 3 + [1]\n",
    "activation = \"tanh\"\n",
    "initializer = \"Glorot uniform\"\n",
    "net = dde.nn.FNN(layer_size, activation, initializer)\n",
    "model = dde.Model(data, net)\n",
    "model.compile(\"adam\", lr=0.0001, metrics=[\"l2 relative error\"])\n",
    "losshistory, train_state = model.train(iterations=100000)\n",
    "#early_stopping = dde.callbacks.EarlyStopping(min_delta=1e-6, patience=500)\n",
    "#losshistory, train_state = model.train(iterations=100, callbacks=[early_stopping])\n",
    "dde.saveplot(losshistory, train_state, issave=True, isplot=True)\n",
    "\n"
   ]
  },
  {
   "cell_type": "code",
   "execution_count": 1,
   "metadata": {},
   "outputs": [
    {
     "name": "stdout",
     "output_type": "stream",
     "text": [
      "WARNING:tensorflow:From c:\\Users\\yesda\\anaconda3\\Lib\\site-packages\\keras\\src\\losses.py:2976: The name tf.losses.sparse_softmax_cross_entropy is deprecated. Please use tf.compat.v1.losses.sparse_softmax_cross_entropy instead.\n",
      "\n"
     ]
    },
    {
     "name": "stderr",
     "output_type": "stream",
     "text": [
      "Using backend: tensorflow.compat.v1\n",
      "Other supported backends: tensorflow, pytorch, jax, paddle.\n",
      "paddle supports more examples now and is recommended.\n"
     ]
    },
    {
     "name": "stdout",
     "output_type": "stream",
     "text": [
      "WARNING:tensorflow:From c:\\Users\\yesda\\anaconda3\\Lib\\site-packages\\deepxde\\backend\\tensorflow_compat_v1\\tensor.py:25: The name tf.disable_v2_behavior is deprecated. Please use tf.compat.v1.disable_v2_behavior instead.\n",
      "\n",
      "WARNING:tensorflow:From c:\\Users\\yesda\\anaconda3\\Lib\\site-packages\\tensorflow\\python\\compat\\v2_compat.py:108: disable_resource_variables (from tensorflow.python.ops.variable_scope) is deprecated and will be removed in a future version.\n",
      "Instructions for updating:\n",
      "non-resource variables are not supported in the long term\n",
      "Warning: 50000 points required, but 50055 points sampled.\n",
      "Compiling model...\n",
      "Warning: For the backend tensorflow.compat.v1, `external_trainable_variables` is ignored, and all trainable ``tf.Variable`` objects are automatically collected.\n",
      "Building feed-forward neural network...\n"
     ]
    },
    {
     "name": "stderr",
     "output_type": "stream",
     "text": [
      "c:\\Users\\yesda\\anaconda3\\Lib\\site-packages\\deepxde\\nn\\tensorflow_compat_v1\\fnn.py:116: UserWarning: `tf.layers.dense` is deprecated and will be removed in a future version. Please use `tf.keras.layers.Dense` instead.\n",
      "  return tf.layers.dense(\n"
     ]
    },
    {
     "name": "stdout",
     "output_type": "stream",
     "text": [
      "WARNING:tensorflow:From c:\\Users\\yesda\\anaconda3\\Lib\\site-packages\\keras\\src\\utils\\version_utils.py:76: The name tf.executing_eagerly_outside_functions is deprecated. Please use tf.compat.v1.executing_eagerly_outside_functions instead.\n",
      "\n",
      "'build' took 0.460638 s\n",
      "\n",
      "WARNING:tensorflow:From c:\\Users\\yesda\\anaconda3\\Lib\\site-packages\\deepxde\\model.py:168: The name tf.train.Saver is deprecated. Please use tf.compat.v1.train.Saver instead.\n",
      "\n",
      "Tensor(\"strided_slice_3:0\", shape=(None, 1), dtype=float32)\n",
      "Tensor(\"strided_slice_3:0\", shape=(None, 1), dtype=float32)\n",
      "'compile' took 1.439955 s\n",
      "\n",
      "Training model...\n",
      "\n",
      "Step      Train loss                                                                          Test loss                                                                           Test metric\n",
      "0         [5.00e-04, 3.21e-04, 5.34e-01, 5.50e-01, 3.04e-02, 3.07e-02, 7.54e-02, 7.56e-02]    [4.92e-04, 3.14e-04, 5.34e-01, 5.50e-01, 3.04e-02, 3.07e-02, 7.54e-02, 7.56e-02]    []  \n"
     ]
    },
    {
     "ename": "",
     "evalue": "",
     "output_type": "error",
     "traceback": [
      "\u001b[1;31mThe Kernel crashed while executing code in the current cell or a previous cell. \n",
      "\u001b[1;31mPlease review the code in the cell(s) to identify a possible cause of the failure. \n",
      "\u001b[1;31mClick <a href='https://aka.ms/vscodeJupyterKernelCrash'>here</a> for more info. \n",
      "\u001b[1;31mView Jupyter <a href='command:jupyter.viewOutput'>log</a> for further details."
     ]
    }
   ],
   "source": [
    "\"\"\"Backend supported: tensorflow.compat.v1, tensorflow, pytorch, paddle\"\"\"\n",
    "import deepxde as dde\n",
    "import numpy as np\n",
    "\n",
    "\n",
    "def gen_traindata():\n",
    "    data = np.load(\"reaction.npz\")\n",
    "    t, x, ca, cb = data[\"t\"], data[\"x\"], data[\"Ca\"], data[\"Cb\"]\n",
    "    X, T = np.meshgrid(x, t)\n",
    "    X = np.reshape(X, (-1, 1))\n",
    "    T = np.reshape(T, (-1, 1))\n",
    "    Ca = np.reshape(ca, (-1, 1))\n",
    "    Cb = np.reshape(cb, (-1, 1))\n",
    "    return np.hstack((X, T)), Ca, Cb\n",
    "\n",
    "\n",
    "kf = dde.Variable(0.05)\n",
    "D = dde.Variable(1.0)\n",
    "\n",
    "\n",
    "def pde(x, y):\n",
    "    ca, cb = y[:, 0:1], y[:, 1:2]\n",
    "    dca_t = dde.grad.jacobian(y, x, i=0, j=1)\n",
    "    print(dca_t)\n",
    "    dca_xx = dde.grad.hessian(y, x, component=0, i=0, j=0)\n",
    "    dcb_t = dde.grad.jacobian(y, x, i=1, j=1)\n",
    "    dcb_xx = dde.grad.hessian(y, x, component=1, i=0, j=0)\n",
    "    eq_a = dca_t - 1e-3 * D * dca_xx + kf * ca * cb ** 2\n",
    "    eq_b = dcb_t - 1e-3 * D * dcb_xx + 2 * kf * ca * cb ** 2\n",
    "    return [eq_a, eq_b]\n",
    "\n",
    "\n",
    "def fun_bc(x):\n",
    "    return 1 - x[:, 0:1]\n",
    "\n",
    "\n",
    "def fun_init(x):\n",
    "    return np.exp(-20 * x[:, 0:1])\n",
    "\n",
    "\n",
    "geom = dde.geometry.Interval(0, 1)\n",
    "timedomain = dde.geometry.TimeDomain(0, 10)\n",
    "geomtime = dde.geometry.GeometryXTime(geom, timedomain)\n",
    "\n",
    "bc_a = dde.icbc.DirichletBC(\n",
    "    geomtime, fun_bc, lambda _, on_boundary: on_boundary, component=0\n",
    ")\n",
    "bc_b = dde.icbc.DirichletBC(\n",
    "    geomtime, fun_bc, lambda _, on_boundary: on_boundary, component=1\n",
    ")\n",
    "ic1 = dde.icbc.IC(geomtime, fun_init, lambda _, on_initial: on_initial, component=0)\n",
    "ic2 = dde.icbc.IC(geomtime, fun_init, lambda _, on_initial: on_initial, component=1)\n",
    "\n",
    "observe_x, Ca, Cb = gen_traindata()\n",
    "observe_y1 = dde.icbc.PointSetBC(observe_x, Ca, component=0)\n",
    "\n",
    "observe_y2 = dde.icbc.PointSetBC(observe_x, Cb, component=1)\n",
    "\n",
    "data = dde.data.TimePDE(\n",
    "    geomtime,\n",
    "    pde,\n",
    "    [bc_a, bc_b, ic1, ic2, observe_y1, observe_y2],\n",
    "    num_domain=2000,\n",
    "    num_boundary=100,\n",
    "    num_initial=100,\n",
    "    anchors=observe_x,\n",
    "    num_test=50000,\n",
    ")\n",
    "net = dde.nn.FNN([2] + [20] * 3 + [2], \"tanh\", \"Glorot uniform\")\n",
    "\n",
    "model = dde.Model(data, net)\n",
    "model.compile(\"adam\", lr=0.001, external_trainable_variables=[kf, D])\n",
    "variable = dde.callbacks.VariableValue([kf, D], period=1000, filename=\"variables.dat\")\n",
    "losshistory, train_state = model.train(iterations=80000, callbacks=[variable])\n",
    "dde.saveplot(losshistory, train_state, issave=True, isplot=True)"
   ]
  }
 ],
 "metadata": {
  "kernelspec": {
   "display_name": "base",
   "language": "python",
   "name": "python3"
  },
  "language_info": {
   "codemirror_mode": {
    "name": "ipython",
    "version": 3
   },
   "file_extension": ".py",
   "mimetype": "text/x-python",
   "name": "python",
   "nbconvert_exporter": "python",
   "pygments_lexer": "ipython3",
   "version": "3.11.7"
  }
 },
 "nbformat": 4,
 "nbformat_minor": 2
}
