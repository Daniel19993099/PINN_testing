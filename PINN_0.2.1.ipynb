{
 "cells": [
  {
   "cell_type": "code",
   "execution_count": 2,
   "metadata": {},
   "outputs": [],
   "source": [
    "import numpy as np\n",
    "\n",
    "data_x = np.array([[0.014598, 0.014112], [0.014598, 0.016107131]])\n",
    "\n",
    "data_sigma = np.array([43584350.6, 43195861.8])  \n",
    "\n",
    "#data_C = np.array([C1, C2])  \n"
   ]
  },
  {
   "cell_type": "code",
   "execution_count": 3,
   "metadata": {},
   "outputs": [
    {
     "name": "stdout",
     "output_type": "stream",
     "text": [
      "WARNING:tensorflow:From c:\\Users\\yesda\\Documents\\GitHub\\PINN_testing\\.conda\\Lib\\site-packages\\keras\\src\\losses.py:2976: The name tf.losses.sparse_softmax_cross_entropy is deprecated. Please use tf.compat.v1.losses.sparse_softmax_cross_entropy instead.\n",
      "\n"
     ]
    },
    {
     "name": "stderr",
     "output_type": "stream",
     "text": [
      "Using backend: tensorflow.compat.v1\n",
      "Other supported backends: tensorflow, pytorch, jax, paddle.\n",
      "paddle supports more examples now and is recommended.\n"
     ]
    },
    {
     "name": "stdout",
     "output_type": "stream",
     "text": [
      "WARNING:tensorflow:From c:\\Users\\yesda\\Documents\\GitHub\\PINN_testing\\.conda\\Lib\\site-packages\\deepxde\\backend\\tensorflow_compat_v1\\tensor.py:25: The name tf.disable_v2_behavior is deprecated. Please use tf.compat.v1.disable_v2_behavior instead.\n",
      "\n",
      "WARNING:tensorflow:From c:\\Users\\yesda\\Documents\\GitHub\\PINN_testing\\.conda\\Lib\\site-packages\\tensorflow\\python\\compat\\v2_compat.py:108: disable_resource_variables (from tensorflow.python.ops.variable_scope) is deprecated and will be removed in a future version.\n",
      "Instructions for updating:\n",
      "non-resource variables are not supported in the long term\n",
      "Compiling model...\n",
      "Building feed-forward neural network...\n"
     ]
    },
    {
     "name": "stderr",
     "output_type": "stream",
     "text": [
      "c:\\Users\\yesda\\Documents\\GitHub\\PINN_testing\\.conda\\Lib\\site-packages\\deepxde\\nn\\tensorflow_compat_v1\\fnn.py:116: UserWarning: `tf.layers.dense` is deprecated and will be removed in a future version. Please use `tf.keras.layers.Dense` instead.\n",
      "  return tf.layers.dense(\n"
     ]
    },
    {
     "name": "stdout",
     "output_type": "stream",
     "text": [
      "WARNING:tensorflow:From c:\\Users\\yesda\\Documents\\GitHub\\PINN_testing\\.conda\\Lib\\site-packages\\keras\\src\\utils\\version_utils.py:76: The name tf.executing_eagerly_outside_functions is deprecated. Please use tf.compat.v1.executing_eagerly_outside_functions instead.\n",
      "\n",
      "'build' took 0.294848 s\n",
      "\n",
      "WARNING:tensorflow:From c:\\Users\\yesda\\Documents\\GitHub\\PINN_testing\\.conda\\Lib\\site-packages\\deepxde\\model.py:168: The name tf.train.Saver is deprecated. Please use tf.compat.v1.train.Saver instead.\n",
      "\n"
     ]
    },
    {
     "ename": "AttributeError",
     "evalue": "'CSGDifference' object has no attribute 'losses_train'",
     "output_type": "error",
     "traceback": [
      "\u001b[1;31m---------------------------------------------------------------------------\u001b[0m",
      "\u001b[1;31mAttributeError\u001b[0m                            Traceback (most recent call last)",
      "Cell \u001b[1;32mIn[3], line 39\u001b[0m\n\u001b[0;32m     36\u001b[0m model_sigma \u001b[38;5;241m=\u001b[39m dde\u001b[38;5;241m.\u001b[39mModel(geom, net_sigma)\n\u001b[0;32m     38\u001b[0m \u001b[38;5;66;03m# Compile the model with data\u001b[39;00m\n\u001b[1;32m---> 39\u001b[0m \u001b[43mmodel_sigma\u001b[49m\u001b[38;5;241;43m.\u001b[39;49m\u001b[43mcompile\u001b[49m\u001b[43m(\u001b[49m\u001b[38;5;124;43m\"\u001b[39;49m\u001b[38;5;124;43madam\u001b[39;49m\u001b[38;5;124;43m\"\u001b[39;49m\u001b[43m,\u001b[49m\u001b[43m \u001b[49m\u001b[43mlr\u001b[49m\u001b[38;5;241;43m=\u001b[39;49m\u001b[38;5;241;43m1e-3\u001b[39;49m\u001b[43m)\u001b[49m\n\u001b[0;32m     41\u001b[0m \u001b[38;5;66;03m# Define the custom data\u001b[39;00m\n\u001b[0;32m     42\u001b[0m \u001b[38;5;28;01mdef\u001b[39;00m \u001b[38;5;21mdata_func\u001b[39m(x):\n",
      "File \u001b[1;32mc:\\Users\\yesda\\Documents\\GitHub\\PINN_testing\\.conda\\Lib\\site-packages\\deepxde\\utils\\internal.py:22\u001b[0m, in \u001b[0;36mtiming.<locals>.wrapper\u001b[1;34m(*args, **kwargs)\u001b[0m\n\u001b[0;32m     19\u001b[0m \u001b[38;5;129m@wraps\u001b[39m(f)\n\u001b[0;32m     20\u001b[0m \u001b[38;5;28;01mdef\u001b[39;00m \u001b[38;5;21mwrapper\u001b[39m(\u001b[38;5;241m*\u001b[39margs, \u001b[38;5;241m*\u001b[39m\u001b[38;5;241m*\u001b[39mkwargs):\n\u001b[0;32m     21\u001b[0m     ts \u001b[38;5;241m=\u001b[39m timeit\u001b[38;5;241m.\u001b[39mdefault_timer()\n\u001b[1;32m---> 22\u001b[0m     result \u001b[38;5;241m=\u001b[39m \u001b[43mf\u001b[49m\u001b[43m(\u001b[49m\u001b[38;5;241;43m*\u001b[39;49m\u001b[43margs\u001b[49m\u001b[43m,\u001b[49m\u001b[43m \u001b[49m\u001b[38;5;241;43m*\u001b[39;49m\u001b[38;5;241;43m*\u001b[39;49m\u001b[43mkwargs\u001b[49m\u001b[43m)\u001b[49m\n\u001b[0;32m     23\u001b[0m     te \u001b[38;5;241m=\u001b[39m timeit\u001b[38;5;241m.\u001b[39mdefault_timer()\n\u001b[0;32m     24\u001b[0m     \u001b[38;5;28;01mif\u001b[39;00m config\u001b[38;5;241m.\u001b[39mrank \u001b[38;5;241m==\u001b[39m \u001b[38;5;241m0\u001b[39m:\n",
      "File \u001b[1;32mc:\\Users\\yesda\\Documents\\GitHub\\PINN_testing\\.conda\\Lib\\site-packages\\deepxde\\model.py:137\u001b[0m, in \u001b[0;36mModel.compile\u001b[1;34m(self, optimizer, lr, loss, metrics, decay, loss_weights, external_trainable_variables)\u001b[0m\n\u001b[0;32m    134\u001b[0m     \u001b[38;5;28mself\u001b[39m\u001b[38;5;241m.\u001b[39mexternal_trainable_variables \u001b[38;5;241m=\u001b[39m external_trainable_variables\n\u001b[0;32m    136\u001b[0m \u001b[38;5;28;01mif\u001b[39;00m backend_name \u001b[38;5;241m==\u001b[39m \u001b[38;5;124m\"\u001b[39m\u001b[38;5;124mtensorflow.compat.v1\u001b[39m\u001b[38;5;124m\"\u001b[39m:\n\u001b[1;32m--> 137\u001b[0m     \u001b[38;5;28;43mself\u001b[39;49m\u001b[38;5;241;43m.\u001b[39;49m\u001b[43m_compile_tensorflow_compat_v1\u001b[49m\u001b[43m(\u001b[49m\u001b[43mlr\u001b[49m\u001b[43m,\u001b[49m\u001b[43m \u001b[49m\u001b[43mloss_fn\u001b[49m\u001b[43m,\u001b[49m\u001b[43m \u001b[49m\u001b[43mdecay\u001b[49m\u001b[43m)\u001b[49m\n\u001b[0;32m    138\u001b[0m \u001b[38;5;28;01melif\u001b[39;00m backend_name \u001b[38;5;241m==\u001b[39m \u001b[38;5;124m\"\u001b[39m\u001b[38;5;124mtensorflow\u001b[39m\u001b[38;5;124m\"\u001b[39m:\n\u001b[0;32m    139\u001b[0m     \u001b[38;5;28mself\u001b[39m\u001b[38;5;241m.\u001b[39m_compile_tensorflow(lr, loss_fn, decay)\n",
      "File \u001b[1;32mc:\\Users\\yesda\\Documents\\GitHub\\PINN_testing\\.conda\\Lib\\site-packages\\deepxde\\model.py:186\u001b[0m, in \u001b[0;36mModel._compile_tensorflow_compat_v1\u001b[1;34m(self, lr, loss_fn, decay)\u001b[0m\n\u001b[0;32m    183\u001b[0m         losses \u001b[38;5;241m*\u001b[39m\u001b[38;5;241m=\u001b[39m \u001b[38;5;28mself\u001b[39m\u001b[38;5;241m.\u001b[39mloss_weights\n\u001b[0;32m    184\u001b[0m     \u001b[38;5;28;01mreturn\u001b[39;00m losses\n\u001b[1;32m--> 186\u001b[0m losses_train \u001b[38;5;241m=\u001b[39m losses(\u001b[38;5;28;43mself\u001b[39;49m\u001b[38;5;241;43m.\u001b[39;49m\u001b[43mdata\u001b[49m\u001b[38;5;241;43m.\u001b[39;49m\u001b[43mlosses_train\u001b[49m)\n\u001b[0;32m    187\u001b[0m losses_test \u001b[38;5;241m=\u001b[39m losses(\u001b[38;5;28mself\u001b[39m\u001b[38;5;241m.\u001b[39mdata\u001b[38;5;241m.\u001b[39mlosses_test)\n\u001b[0;32m    188\u001b[0m total_loss \u001b[38;5;241m=\u001b[39m tf\u001b[38;5;241m.\u001b[39mmath\u001b[38;5;241m.\u001b[39mreduce_sum(losses_train)\n",
      "\u001b[1;31mAttributeError\u001b[0m: 'CSGDifference' object has no attribute 'losses_train'"
     ]
    }
   ],
   "source": [
    "import deepxde as dde\n",
    "\n",
    "\n",
    "# Define the square domain (e.g., 2x2 square with side length L)\n",
    "L = 1.0  # Half-length of the square plate\n",
    "square = dde.geometry.Rectangle([-L, -L], [L, L])\n",
    "\n",
    "# Define the circular hole at the center (radius R)\n",
    "R = 0.1  # Radius of the hole\n",
    "circle = dde.geometry.Disk([0, 0], R)\n",
    "\n",
    "# Subtract the circular hole from the square to get the final geometry\n",
    "geom = dde.geometry.CSGDifference(square, circle)\n",
    "\n",
    "# Create a custom data set in DeepXDE format\n",
    "data = np.hstack((data_x, data_sigma.reshape(-1, 1)))\n",
    "# Boundary condition on the outer square (Dirichlet or Neumann)\n",
    "def boundary_square(x, on_boundary):\n",
    "    return on_boundary and np.any(np.isclose(x, [-L, -L]) or np.isclose(x, [L, L]))\n",
    "\n",
    "# Boundary condition on the circular hole (Dirichlet or Neumann)\n",
    "def boundary_circle(x, on_boundary):\n",
    "    return on_boundary and np.sqrt(x[0]**2 + x[1]**2) < R + 1e-6 \n",
    "\n",
    "# Example of a Dirichlet boundary condition (could be Neumann as well)\n",
    "bc_outer = dde.icbc.DirichletBC(geom, lambda x: 0, boundary_square)\n",
    "bc_inner = dde.icbc.DirichletBC(geom, lambda x: 1, boundary_circle)  # Example condition\n",
    "\n",
    "# Define the network for σ\n",
    "layer_size = [3] + [50] * 3 + [1]  # 3 inputs (x, y, z) -> hidden layers -> 1 output (σ)\n",
    "activation = \"tanh\"\n",
    "initializer = \"Glorot uniform\"\n",
    "net_sigma = dde.nn.FNN(layer_size, activation, initializer)\n",
    "\n",
    "# Define the model\n",
    "model_sigma = dde.Model(geom, net_sigma)\n",
    "\n",
    "# Compile the model with data\n",
    "model_sigma.compile(\"adam\", lr=1e-3)\n",
    "\n",
    "# Define the custom data\n",
    "def data_func(x):\n",
    "    return np.interp(x, data_x, data_sigma)\n",
    "\n",
    "observations = dde.PointSetBC(data_x, data_sigma, component=0)\n",
    "data_sigma = dde.data.PointSetBC(data_x, data_sigma)\n",
    "\n",
    "# Train the model\n",
    "model_sigma.train(epochs=5000)\n"
   ]
  },
  {
   "cell_type": "code",
   "execution_count": 4,
   "metadata": {},
   "outputs": [],
   "source": [
    "def pde_C_L(x, C_L):\n",
    "    C_LA = C_L[:, 0:1]\n",
    "    C_LB = C_L[:, 1:2]\n",
    "\n",
    "    x, y, z, t = x[:, 0:1], x[:, 1:2], x[:, 2:3], x[:, 3:4]\n",
    "\n",
    "    # Use the trained sigma model to predict sigma_A and sigma_B\n",
    "    sigma_A = model_sigma.predict(x, y, z)  # Predicting sigma_A using trained model_sigma\n",
    "    sigma_B = model_sigma.predict(x, y, z)  # Assuming similar behavior for B, or train separately\n",
    "\n",
    "    dC_L_dt = dde.grad.jacobian(C_L, x, i=0, j=3)\n",
    "    dC_L_dx2 = dde.grad.hessian(C_L, x, i=0, j=0)\n",
    "    dC_L_dy2 = dde.grad.hessian(C_L, x, i=0, j=1)\n",
    "    dC_L_dz2 = dde.grad.hessian(C_L, x, i=0, j=2)\n",
    "\n",
    "    eq1 = C_LA - C_LB * dde.backend.exp(VA/(R*T)*(sigma_A - sigma_B))\n",
    "    eq2 = dC_L_dt - (1/D_L) * (dC_L_dx2 + dC_L_dy2 + dC_L_dz2)\n",
    "\n",
    "    return [eq1, eq2]\n"
   ]
  },
  {
   "cell_type": "code",
   "execution_count": 8,
   "metadata": {},
   "outputs": [
    {
     "ename": "TypeError",
     "evalue": "Model.__init__() takes 3 positional arguments but 4 were given",
     "output_type": "error",
     "traceback": [
      "\u001b[1;31m---------------------------------------------------------------------------\u001b[0m",
      "\u001b[1;31mTypeError\u001b[0m                                 Traceback (most recent call last)",
      "Cell \u001b[1;32mIn[8], line 16\u001b[0m\n\u001b[0;32m     10\u001b[0m net_C_L \u001b[38;5;241m=\u001b[39m dde\u001b[38;5;241m.\u001b[39mnn\u001b[38;5;241m.\u001b[39mFNN(layer_size, activation, initializer)\n\u001b[0;32m     12\u001b[0m \u001b[38;5;66;03m# Define the initial condition and boundary conditions\u001b[39;00m\n\u001b[0;32m     13\u001b[0m \u001b[38;5;66;03m#ic = dde.icbc.IC(geomtime)\u001b[39;00m\n\u001b[0;32m     14\u001b[0m \n\u001b[0;32m     15\u001b[0m \u001b[38;5;66;03m# Define the model with the PDE, initial and boundary conditions\u001b[39;00m\n\u001b[1;32m---> 16\u001b[0m model_C_L \u001b[38;5;241m=\u001b[39m \u001b[43mdde\u001b[49m\u001b[38;5;241;43m.\u001b[39;49m\u001b[43mModel\u001b[49m\u001b[43m(\u001b[49m\u001b[43mgeomtime\u001b[49m\u001b[43m,\u001b[49m\u001b[43m \u001b[49m\u001b[43mpde_C_L\u001b[49m\u001b[43m,\u001b[49m\u001b[43m \u001b[49m\u001b[43mnet_C_L\u001b[49m\u001b[43m)\u001b[49m\n\u001b[0;32m     18\u001b[0m \u001b[38;5;66;03m# Compile the model with the PDE and dataset\u001b[39;00m\n\u001b[0;32m     19\u001b[0m model_C_L\u001b[38;5;241m.\u001b[39mcompile(\u001b[38;5;124m\"\u001b[39m\u001b[38;5;124madam\u001b[39m\u001b[38;5;124m\"\u001b[39m, lr\u001b[38;5;241m=\u001b[39m\u001b[38;5;241m1e-3\u001b[39m)\n",
      "\u001b[1;31mTypeError\u001b[0m: Model.__init__() takes 3 positional arguments but 4 were given"
     ]
    }
   ],
   "source": [
    "# Geometry and time domain\n",
    "geom = dde.geometry.CSGDifference(square, circle)\n",
    "timedomain = dde.geometry.TimeDomain(0, 1)\n",
    "geomtime = dde.geometry.GeometryXTime(geom, timedomain)\n",
    "\n",
    "# Network for C_L\n",
    "layer_size = [4] + [50] * 3 + [2]  # 4 inputs (x, y, z, t) -> hidden layers -> 2 outputs (C_LA, C_LB)\n",
    "activation = \"tanh\"\n",
    "initializer = \"Glorot uniform\"\n",
    "net_C_L = dde.nn.FNN(layer_size, activation, initializer)\n",
    "\n",
    "# Define the initial condition and boundary conditions\n",
    "#ic = dde.icbc.IC(geomtime)\n",
    "\n",
    "# Define the model with the PDE, initial and boundary conditions\n",
    "model_C_L = dde.Model(geomtime, pde_C_L, net_C_L)\n",
    "\n",
    "# Compile the model with the PDE and dataset\n",
    "model_C_L.compile(\"adam\", lr=1e-3)\n",
    "\n",
    "# Train the model\n",
    "model_C_L.train(epochs=5000)\n"
   ]
  },
  {
   "cell_type": "code",
   "execution_count": null,
   "metadata": {},
   "outputs": [],
   "source": [
    "# Assume C data is in the format: (x, y, z, t) -> C\n",
    "data_C_L = np.hstack((data_x, t.reshape(-1, 1), data_C.reshape(-1, 1)))  # Combine x, y, z, t with C data\n",
    "\n",
    "# Adding the C_L data as a point set boundary condition\n",
    "observations_C_L = dde.PointSetBC(data_x, data_C, component=0)\n",
    "\n",
    "# Add the C_L data to the model\n",
    "model_C_L = dde.Model(geomtime, pde_C_L, [ic, observations_C_L], net_C_L)\n",
    "\n",
    "# Train the model with both PDE and data-driven loss\n",
    "model_C_L.compile(\"adam\", lr=1e-3)\n",
    "model_C_L.train(epochs=5000)\n"
   ]
  }
 ],
 "metadata": {
  "kernelspec": {
   "display_name": "Python 3",
   "language": "python",
   "name": "python3"
  },
  "language_info": {
   "codemirror_mode": {
    "name": "ipython",
    "version": 3
   },
   "file_extension": ".py",
   "mimetype": "text/x-python",
   "name": "python",
   "nbconvert_exporter": "python",
   "pygments_lexer": "ipython3",
   "version": "3.11.9"
  }
 },
 "nbformat": 4,
 "nbformat_minor": 2
}
