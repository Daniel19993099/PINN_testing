{
 "cells": [
  {
   "cell_type": "code",
   "execution_count": 2,
   "metadata": {},
   "outputs": [
    {
     "name": "stdout",
     "output_type": "stream",
     "text": [
      "[[0.014598   0.014112  ]\n",
      " [0.014598   0.01610713]]\n",
      "[[43584350.6]\n",
      " [43195861.8]]\n",
      "<class 'numpy.ndarray'>\n",
      "<class 'numpy.ndarray'>\n",
      "WARNING:tensorflow:From c:\\Users\\yesda\\Documents\\GitHub\\PINN_testing\\.conda\\Lib\\site-packages\\keras\\src\\losses.py:2976: The name tf.losses.sparse_softmax_cross_entropy is deprecated. Please use tf.compat.v1.losses.sparse_softmax_cross_entropy instead.\n",
      "\n"
     ]
    },
    {
     "name": "stderr",
     "output_type": "stream",
     "text": [
      "Using backend: tensorflow.compat.v1\n",
      "Other supported backends: tensorflow, pytorch, jax, paddle.\n",
      "paddle supports more examples now and is recommended.\n"
     ]
    },
    {
     "name": "stdout",
     "output_type": "stream",
     "text": [
      "WARNING:tensorflow:From c:\\Users\\yesda\\Documents\\GitHub\\PINN_testing\\.conda\\Lib\\site-packages\\deepxde\\backend\\tensorflow_compat_v1\\tensor.py:25: The name tf.disable_v2_behavior is deprecated. Please use tf.compat.v1.disable_v2_behavior instead.\n",
      "\n",
      "WARNING:tensorflow:From c:\\Users\\yesda\\Documents\\GitHub\\PINN_testing\\.conda\\Lib\\site-packages\\tensorflow\\python\\compat\\v2_compat.py:108: disable_resource_variables (from tensorflow.python.ops.variable_scope) is deprecated and will be removed in a future version.\n",
      "Instructions for updating:\n",
      "non-resource variables are not supported in the long term\n",
      "Compiling model...\n",
      "Building feed-forward neural network...\n",
      "WARNING:tensorflow:From c:\\Users\\yesda\\Documents\\GitHub\\PINN_testing\\.conda\\Lib\\site-packages\\keras\\src\\utils\\version_utils.py:76: The name tf.executing_eagerly_outside_functions is deprecated. Please use tf.compat.v1.executing_eagerly_outside_functions instead.\n",
      "\n"
     ]
    },
    {
     "name": "stderr",
     "output_type": "stream",
     "text": [
      "c:\\Users\\yesda\\Documents\\GitHub\\PINN_testing\\.conda\\Lib\\site-packages\\deepxde\\nn\\tensorflow_compat_v1\\fnn.py:116: UserWarning: `tf.layers.dense` is deprecated and will be removed in a future version. Please use `tf.keras.layers.Dense` instead.\n",
      "  return tf.layers.dense(\n"
     ]
    },
    {
     "name": "stdout",
     "output_type": "stream",
     "text": [
      "'build' took 0.227050 s\n",
      "\n",
      "WARNING:tensorflow:From c:\\Users\\yesda\\Documents\\GitHub\\PINN_testing\\.conda\\Lib\\site-packages\\deepxde\\model.py:168: The name tf.train.Saver is deprecated. Please use tf.compat.v1.train.Saver instead.\n",
      "\n",
      "'compile' took 0.367009 s\n",
      "\n",
      "Warning: epochs is deprecated and will be removed in a future version. Use iterations instead.\n",
      "Training model...\n",
      "\n",
      "Step      Train loss    Test loss     Test metric\n",
      "0         [1.88e+15]    [1.88e+15]    []  \n",
      "1000      [1.88e+15]    [1.88e+15]    []  \n",
      "2000      [1.88e+15]    [1.88e+15]    []  \n",
      "3000      [1.88e+15]    [1.88e+15]    []  \n",
      "4000      [1.88e+15]    [1.88e+15]    []  \n",
      "5000      [1.88e+15]    [1.88e+15]    []  \n",
      "\n",
      "Best model at step 5000:\n",
      "  train loss: 1.88e+15\n",
      "  test loss: 1.88e+15\n",
      "  test metric: []\n",
      "\n",
      "'train' took 4.886712 s\n",
      "\n"
     ]
    }
   ],
   "source": [
    "import numpy as np\n",
    "\n",
    "data_x = np.array([[0.014598, 0.014112], [0.014598, 0.016107131]])\n",
    "\n",
    "data_sigma = np.array([[43584350.6], [43195861.8]])  \n",
    "\n",
    "\n",
    "X_test=np.array([[0.014598, 0.014112], [0.014598, 0.016107131]])\n",
    "y_test=np.array([[43584350.6], [43195861.8]]) \n",
    "\n",
    "print(data_x)\n",
    "print(data_sigma)\n",
    "assert data_x is not None, \"data_x is None!\"\n",
    "assert data_sigma is not None, \"data_sigma is None!\"\n",
    "print(type(data_x))  # Should print <class 'numpy.ndarray'>\n",
    "print(type(data_sigma))  # Should print <class 'numpy.ndarray'>\n",
    "\n",
    "\n",
    "\n",
    "import deepxde as dde\n",
    "\n",
    "# Use the DataSet data object to create a data-driven task\n",
    "data = dde.data.dataset.DataSet(X_train=data_x, y_train=data_sigma, X_test=X_test, y_test=y_test)\n",
    "\n",
    "# Define the network for σ\n",
    "layer_size = [2] + [50] * 3 + [1]  # 2 inputs (x, y ) -> hidden layers -> 1 output (σ)\n",
    "activation = \"tanh\"\n",
    "initializer = \"Glorot uniform\"\n",
    "net_sigma = dde.nn.FNN(layer_size, activation,initializer)\n",
    "\n",
    "# Define the model\n",
    "model_sigma = dde.Model(data, net_sigma)\n",
    "\n",
    "# Compile the model with data\n",
    "model_sigma.compile(\"adam\", lr=1e-3)\n",
    "\n",
    "# Train the model\n",
    "losshistory, train_state = model_sigma.train(epochs=5000)\n"
   ]
  },
  {
   "cell_type": "code",
   "execution_count": 2,
   "metadata": {},
   "outputs": [],
   "source": [
    "def pde_C_L(x, C_L):\n",
    "    dC_L_dt = dde.grad.jacobian(C_L, x, i=0, j=2)\n",
    "    dC_L_dx2 = dde.grad.hessian(C_L, x, i=0, j=0)\n",
    "    dC_L_dy2 = dde.grad.hessian(C_L, x, i=0, j=1)\n",
    "    eq = dC_L_dt - (1/3.8) * (dC_L_dx2 + dC_L_dy2)\n",
    "    return eq"
   ]
  },
  {
   "cell_type": "code",
   "execution_count": 5,
   "metadata": {},
   "outputs": [
    {
     "name": "stdout",
     "output_type": "stream",
     "text": [
      "[[2 1]\n",
      " [3 1]\n",
      " [4 1]]\n",
      "[[267.8698]\n",
      " [267.8698]\n",
      " [267.8698]]\n",
      "[[267.86975]]\n"
     ]
    }
   ],
   "source": [
    "x=np.array([[2,1,3],[3,1,4],[4,1,5]])\n",
    "print(x[:,0:2])\n",
    "sigma_A = model_sigma.predict(x[:,0:2])\n",
    "print(sigma_A)\n",
    "igma_A = model_sigma.predict([[2,1]])\n",
    "print(igma_A)"
   ]
  },
  {
   "cell_type": "code",
   "execution_count": 11,
   "metadata": {},
   "outputs": [
    {
     "name": "stdout",
     "output_type": "stream",
     "text": [
      "Warning: CSGDifference.uniform_points not implemented. Use random_points instead.\n",
      "Warning: 1000 points required, but 1024 points sampled.\n",
      "Compiling model...\n",
      "Building feed-forward neural network...\n",
      "'build' took 0.029589 s\n",
      "\n"
     ]
    },
    {
     "name": "stderr",
     "output_type": "stream",
     "text": [
      "c:\\Users\\yesda\\Documents\\GitHub\\PINN_testing\\.conda\\Lib\\site-packages\\deepxde\\nn\\tensorflow_compat_v1\\fnn.py:116: UserWarning: `tf.layers.dense` is deprecated and will be removed in a future version. Please use `tf.keras.layers.Dense` instead.\n",
      "  return tf.layers.dense(\n"
     ]
    },
    {
     "ename": "TypeError",
     "evalue": "'NoneType' object is not subscriptable",
     "output_type": "error",
     "traceback": [
      "\u001b[1;31m---------------------------------------------------------------------------\u001b[0m",
      "\u001b[1;31mTypeError\u001b[0m                                 Traceback (most recent call last)",
      "Cell \u001b[1;32mIn[11], line 68\u001b[0m\n\u001b[0;32m     65\u001b[0m model\u001b[38;5;241m=\u001b[39m dde\u001b[38;5;241m.\u001b[39mModel(data, net_C_L)\n\u001b[0;32m     67\u001b[0m \u001b[38;5;66;03m# Compile the model with the PDE and dataset\u001b[39;00m\n\u001b[1;32m---> 68\u001b[0m \u001b[43mmodel\u001b[49m\u001b[38;5;241;43m.\u001b[39;49m\u001b[43mcompile\u001b[49m\u001b[43m(\u001b[49m\u001b[38;5;124;43m\"\u001b[39;49m\u001b[38;5;124;43madam\u001b[39;49m\u001b[38;5;124;43m\"\u001b[39;49m\u001b[43m,\u001b[49m\u001b[43m \u001b[49m\u001b[43mlr\u001b[49m\u001b[38;5;241;43m=\u001b[39;49m\u001b[38;5;241;43m1e-3\u001b[39;49m\u001b[43m)\u001b[49m\n\u001b[0;32m     70\u001b[0m \u001b[38;5;66;03m# Train the model\u001b[39;00m\n\u001b[0;32m     71\u001b[0m model\u001b[38;5;241m.\u001b[39mtrain(epochs\u001b[38;5;241m=\u001b[39m\u001b[38;5;241m5000\u001b[39m)\n",
      "File \u001b[1;32mc:\\Users\\yesda\\Documents\\GitHub\\PINN_testing\\.conda\\Lib\\site-packages\\deepxde\\utils\\internal.py:22\u001b[0m, in \u001b[0;36mtiming.<locals>.wrapper\u001b[1;34m(*args, **kwargs)\u001b[0m\n\u001b[0;32m     19\u001b[0m \u001b[38;5;129m@wraps\u001b[39m(f)\n\u001b[0;32m     20\u001b[0m \u001b[38;5;28;01mdef\u001b[39;00m \u001b[38;5;21mwrapper\u001b[39m(\u001b[38;5;241m*\u001b[39margs, \u001b[38;5;241m*\u001b[39m\u001b[38;5;241m*\u001b[39mkwargs):\n\u001b[0;32m     21\u001b[0m     ts \u001b[38;5;241m=\u001b[39m timeit\u001b[38;5;241m.\u001b[39mdefault_timer()\n\u001b[1;32m---> 22\u001b[0m     result \u001b[38;5;241m=\u001b[39m \u001b[43mf\u001b[49m\u001b[43m(\u001b[49m\u001b[38;5;241;43m*\u001b[39;49m\u001b[43margs\u001b[49m\u001b[43m,\u001b[49m\u001b[43m \u001b[49m\u001b[38;5;241;43m*\u001b[39;49m\u001b[38;5;241;43m*\u001b[39;49m\u001b[43mkwargs\u001b[49m\u001b[43m)\u001b[49m\n\u001b[0;32m     23\u001b[0m     te \u001b[38;5;241m=\u001b[39m timeit\u001b[38;5;241m.\u001b[39mdefault_timer()\n\u001b[0;32m     24\u001b[0m     \u001b[38;5;28;01mif\u001b[39;00m config\u001b[38;5;241m.\u001b[39mrank \u001b[38;5;241m==\u001b[39m \u001b[38;5;241m0\u001b[39m:\n",
      "File \u001b[1;32mc:\\Users\\yesda\\Documents\\GitHub\\PINN_testing\\.conda\\Lib\\site-packages\\deepxde\\model.py:137\u001b[0m, in \u001b[0;36mModel.compile\u001b[1;34m(self, optimizer, lr, loss, metrics, decay, loss_weights, external_trainable_variables)\u001b[0m\n\u001b[0;32m    134\u001b[0m     \u001b[38;5;28mself\u001b[39m\u001b[38;5;241m.\u001b[39mexternal_trainable_variables \u001b[38;5;241m=\u001b[39m external_trainable_variables\n\u001b[0;32m    136\u001b[0m \u001b[38;5;28;01mif\u001b[39;00m backend_name \u001b[38;5;241m==\u001b[39m \u001b[38;5;124m\"\u001b[39m\u001b[38;5;124mtensorflow.compat.v1\u001b[39m\u001b[38;5;124m\"\u001b[39m:\n\u001b[1;32m--> 137\u001b[0m     \u001b[38;5;28;43mself\u001b[39;49m\u001b[38;5;241;43m.\u001b[39;49m\u001b[43m_compile_tensorflow_compat_v1\u001b[49m\u001b[43m(\u001b[49m\u001b[43mlr\u001b[49m\u001b[43m,\u001b[49m\u001b[43m \u001b[49m\u001b[43mloss_fn\u001b[49m\u001b[43m,\u001b[49m\u001b[43m \u001b[49m\u001b[43mdecay\u001b[49m\u001b[43m)\u001b[49m\n\u001b[0;32m    138\u001b[0m \u001b[38;5;28;01melif\u001b[39;00m backend_name \u001b[38;5;241m==\u001b[39m \u001b[38;5;124m\"\u001b[39m\u001b[38;5;124mtensorflow\u001b[39m\u001b[38;5;124m\"\u001b[39m:\n\u001b[0;32m    139\u001b[0m     \u001b[38;5;28mself\u001b[39m\u001b[38;5;241m.\u001b[39m_compile_tensorflow(lr, loss_fn, decay)\n",
      "File \u001b[1;32mc:\\Users\\yesda\\Documents\\GitHub\\PINN_testing\\.conda\\Lib\\site-packages\\deepxde\\model.py:186\u001b[0m, in \u001b[0;36mModel._compile_tensorflow_compat_v1\u001b[1;34m(self, lr, loss_fn, decay)\u001b[0m\n\u001b[0;32m    183\u001b[0m         losses \u001b[38;5;241m*\u001b[39m\u001b[38;5;241m=\u001b[39m \u001b[38;5;28mself\u001b[39m\u001b[38;5;241m.\u001b[39mloss_weights\n\u001b[0;32m    184\u001b[0m     \u001b[38;5;28;01mreturn\u001b[39;00m losses\n\u001b[1;32m--> 186\u001b[0m losses_train \u001b[38;5;241m=\u001b[39m \u001b[43mlosses\u001b[49m\u001b[43m(\u001b[49m\u001b[38;5;28;43mself\u001b[39;49m\u001b[38;5;241;43m.\u001b[39;49m\u001b[43mdata\u001b[49m\u001b[38;5;241;43m.\u001b[39;49m\u001b[43mlosses_train\u001b[49m\u001b[43m)\u001b[49m\n\u001b[0;32m    187\u001b[0m losses_test \u001b[38;5;241m=\u001b[39m losses(\u001b[38;5;28mself\u001b[39m\u001b[38;5;241m.\u001b[39mdata\u001b[38;5;241m.\u001b[39mlosses_test)\n\u001b[0;32m    188\u001b[0m total_loss \u001b[38;5;241m=\u001b[39m tf\u001b[38;5;241m.\u001b[39mmath\u001b[38;5;241m.\u001b[39mreduce_sum(losses_train)\n",
      "File \u001b[1;32mc:\\Users\\yesda\\Documents\\GitHub\\PINN_testing\\.conda\\Lib\\site-packages\\deepxde\\model.py:172\u001b[0m, in \u001b[0;36mModel._compile_tensorflow_compat_v1.<locals>.losses\u001b[1;34m(losses_fn)\u001b[0m\n\u001b[0;32m    170\u001b[0m \u001b[38;5;28;01mdef\u001b[39;00m \u001b[38;5;21mlosses\u001b[39m(losses_fn):\n\u001b[0;32m    171\u001b[0m     \u001b[38;5;66;03m# Data losses\u001b[39;00m\n\u001b[1;32m--> 172\u001b[0m     losses \u001b[38;5;241m=\u001b[39m \u001b[43mlosses_fn\u001b[49m\u001b[43m(\u001b[49m\n\u001b[0;32m    173\u001b[0m \u001b[43m        \u001b[49m\u001b[38;5;28;43mself\u001b[39;49m\u001b[38;5;241;43m.\u001b[39;49m\u001b[43mnet\u001b[49m\u001b[38;5;241;43m.\u001b[39;49m\u001b[43mtargets\u001b[49m\u001b[43m,\u001b[49m\u001b[43m \u001b[49m\u001b[38;5;28;43mself\u001b[39;49m\u001b[38;5;241;43m.\u001b[39;49m\u001b[43mnet\u001b[49m\u001b[38;5;241;43m.\u001b[39;49m\u001b[43moutputs\u001b[49m\u001b[43m,\u001b[49m\u001b[43m \u001b[49m\u001b[43mloss_fn\u001b[49m\u001b[43m,\u001b[49m\u001b[43m \u001b[49m\u001b[38;5;28;43mself\u001b[39;49m\u001b[38;5;241;43m.\u001b[39;49m\u001b[43mnet\u001b[49m\u001b[38;5;241;43m.\u001b[39;49m\u001b[43minputs\u001b[49m\u001b[43m,\u001b[49m\u001b[43m \u001b[49m\u001b[38;5;28;43mself\u001b[39;49m\n\u001b[0;32m    174\u001b[0m \u001b[43m    \u001b[49m\u001b[43m)\u001b[49m\n\u001b[0;32m    175\u001b[0m     \u001b[38;5;28;01mif\u001b[39;00m \u001b[38;5;129;01mnot\u001b[39;00m \u001b[38;5;28misinstance\u001b[39m(losses, \u001b[38;5;28mlist\u001b[39m):\n\u001b[0;32m    176\u001b[0m         losses \u001b[38;5;241m=\u001b[39m [losses]\n",
      "File \u001b[1;32mc:\\Users\\yesda\\Documents\\GitHub\\PINN_testing\\.conda\\Lib\\site-packages\\deepxde\\data\\data.py:13\u001b[0m, in \u001b[0;36mData.losses_train\u001b[1;34m(self, targets, outputs, loss_fn, inputs, model, aux)\u001b[0m\n\u001b[0;32m     11\u001b[0m \u001b[38;5;28;01mdef\u001b[39;00m \u001b[38;5;21mlosses_train\u001b[39m(\u001b[38;5;28mself\u001b[39m, targets, outputs, loss_fn, inputs, model, aux\u001b[38;5;241m=\u001b[39m\u001b[38;5;28;01mNone\u001b[39;00m):\n\u001b[0;32m     12\u001b[0m \u001b[38;5;250m    \u001b[39m\u001b[38;5;124;03m\"\"\"Return a list of losses for training dataset, i.e., constraints.\"\"\"\u001b[39;00m\n\u001b[1;32m---> 13\u001b[0m     \u001b[38;5;28;01mreturn\u001b[39;00m \u001b[38;5;28;43mself\u001b[39;49m\u001b[38;5;241;43m.\u001b[39;49m\u001b[43mlosses\u001b[49m\u001b[43m(\u001b[49m\u001b[43mtargets\u001b[49m\u001b[43m,\u001b[49m\u001b[43m \u001b[49m\u001b[43moutputs\u001b[49m\u001b[43m,\u001b[49m\u001b[43m \u001b[49m\u001b[43mloss_fn\u001b[49m\u001b[43m,\u001b[49m\u001b[43m \u001b[49m\u001b[43minputs\u001b[49m\u001b[43m,\u001b[49m\u001b[43m \u001b[49m\u001b[43mmodel\u001b[49m\u001b[43m,\u001b[49m\u001b[43m \u001b[49m\u001b[43maux\u001b[49m\u001b[38;5;241;43m=\u001b[39;49m\u001b[43maux\u001b[49m\u001b[43m)\u001b[49m\n",
      "File \u001b[1;32mc:\\Users\\yesda\\Documents\\GitHub\\PINN_testing\\.conda\\Lib\\site-packages\\deepxde\\data\\pde.py:175\u001b[0m, in \u001b[0;36mPDE.losses\u001b[1;34m(self, targets, outputs, loss_fn, inputs, model, aux)\u001b[0m\n\u001b[0;32m    173\u001b[0m     beg, end \u001b[38;5;241m=\u001b[39m bcs_start[i], bcs_start[i \u001b[38;5;241m+\u001b[39m \u001b[38;5;241m1\u001b[39m]\n\u001b[0;32m    174\u001b[0m     \u001b[38;5;66;03m# The same BC points are used for training and testing.\u001b[39;00m\n\u001b[1;32m--> 175\u001b[0m     error \u001b[38;5;241m=\u001b[39m \u001b[43mbc\u001b[49m\u001b[38;5;241;43m.\u001b[39;49m\u001b[43merror\u001b[49m\u001b[43m(\u001b[49m\u001b[38;5;28;43mself\u001b[39;49m\u001b[38;5;241;43m.\u001b[39;49m\u001b[43mtrain_x\u001b[49m\u001b[43m,\u001b[49m\u001b[43m \u001b[49m\u001b[43minputs\u001b[49m\u001b[43m,\u001b[49m\u001b[43m \u001b[49m\u001b[43moutputs\u001b[49m\u001b[43m,\u001b[49m\u001b[43m \u001b[49m\u001b[43mbeg\u001b[49m\u001b[43m,\u001b[49m\u001b[43m \u001b[49m\u001b[43mend\u001b[49m\u001b[43m)\u001b[49m\n\u001b[0;32m    176\u001b[0m     losses\u001b[38;5;241m.\u001b[39mappend(loss_fn[\u001b[38;5;28mlen\u001b[39m(error_f) \u001b[38;5;241m+\u001b[39m i](bkd\u001b[38;5;241m.\u001b[39mzeros_like(error), error))\n\u001b[0;32m    177\u001b[0m \u001b[38;5;28;01mreturn\u001b[39;00m losses\n",
      "File \u001b[1;32mc:\\Users\\yesda\\Documents\\GitHub\\PINN_testing\\.conda\\Lib\\site-packages\\deepxde\\icbc\\boundary_conditions.py:75\u001b[0m, in \u001b[0;36mDirichletBC.error\u001b[1;34m(self, X, inputs, outputs, beg, end, aux_var)\u001b[0m\n\u001b[0;32m     74\u001b[0m \u001b[38;5;28;01mdef\u001b[39;00m \u001b[38;5;21merror\u001b[39m(\u001b[38;5;28mself\u001b[39m, X, inputs, outputs, beg, end, aux_var\u001b[38;5;241m=\u001b[39m\u001b[38;5;28;01mNone\u001b[39;00m):\n\u001b[1;32m---> 75\u001b[0m     values \u001b[38;5;241m=\u001b[39m \u001b[38;5;28;43mself\u001b[39;49m\u001b[38;5;241;43m.\u001b[39;49m\u001b[43mfunc\u001b[49m\u001b[43m(\u001b[49m\u001b[43mX\u001b[49m\u001b[43m,\u001b[49m\u001b[43m \u001b[49m\u001b[43mbeg\u001b[49m\u001b[43m,\u001b[49m\u001b[43m \u001b[49m\u001b[43mend\u001b[49m\u001b[43m,\u001b[49m\u001b[43m \u001b[49m\u001b[43maux_var\u001b[49m\u001b[43m)\u001b[49m\n\u001b[0;32m     76\u001b[0m     \u001b[38;5;28;01mif\u001b[39;00m bkd\u001b[38;5;241m.\u001b[39mndim(values) \u001b[38;5;241m==\u001b[39m \u001b[38;5;241m2\u001b[39m \u001b[38;5;129;01mand\u001b[39;00m bkd\u001b[38;5;241m.\u001b[39mshape(values)[\u001b[38;5;241m1\u001b[39m] \u001b[38;5;241m!=\u001b[39m \u001b[38;5;241m1\u001b[39m:\n\u001b[0;32m     77\u001b[0m         \u001b[38;5;28;01mraise\u001b[39;00m \u001b[38;5;167;01mRuntimeError\u001b[39;00m(\n\u001b[0;32m     78\u001b[0m             \u001b[38;5;124m\"\u001b[39m\u001b[38;5;124mDirichletBC function should return an array of shape N by 1 for each \u001b[39m\u001b[38;5;124m\"\u001b[39m\n\u001b[0;32m     79\u001b[0m             \u001b[38;5;124m\"\u001b[39m\u001b[38;5;124mcomponent. Use argument \u001b[39m\u001b[38;5;124m'\u001b[39m\u001b[38;5;124mcomponent\u001b[39m\u001b[38;5;124m'\u001b[39m\u001b[38;5;124m for different output components.\u001b[39m\u001b[38;5;124m\"\u001b[39m\n\u001b[0;32m     80\u001b[0m         )\n",
      "File \u001b[1;32mc:\\Users\\yesda\\Documents\\GitHub\\PINN_testing\\.conda\\Lib\\site-packages\\deepxde\\icbc\\boundary_conditions.py:385\u001b[0m, in \u001b[0;36mnpfunc_range_autocache.<locals>.wrapper_nocache_auxiliary\u001b[1;34m(X, beg, end, aux_var)\u001b[0m\n\u001b[0;32m    383\u001b[0m \u001b[38;5;129m@wraps\u001b[39m(func)\n\u001b[0;32m    384\u001b[0m \u001b[38;5;28;01mdef\u001b[39;00m \u001b[38;5;21mwrapper_nocache_auxiliary\u001b[39m(X, beg, end, aux_var):\n\u001b[1;32m--> 385\u001b[0m     \u001b[38;5;28;01mreturn\u001b[39;00m func(X[beg:end], \u001b[43maux_var\u001b[49m\u001b[43m[\u001b[49m\u001b[43mbeg\u001b[49m\u001b[43m:\u001b[49m\u001b[43mend\u001b[49m\u001b[43m]\u001b[49m)\n",
      "\u001b[1;31mTypeError\u001b[0m: 'NoneType' object is not subscriptable"
     ]
    }
   ],
   "source": [
    "# Define the square domain (e.g., 2x2 square with side length L)\n",
    "L = 1.0  # Half-length of the square plate\n",
    "square = dde.geometry.Rectangle([-L, -L], [L, L])\n",
    "\n",
    "# Define the circular hole at the center (radius R)\n",
    "R = 0.1  # Radius of the hole\n",
    "circle = dde.geometry.Disk([0, 0], R)\n",
    "\n",
    "# Geometry and time domain\n",
    "geom = dde.geometry.csg.CSGDifference(square, circle)\n",
    "\n",
    "timedomain = dde.geometry.TimeDomain(0, 1)\n",
    "geomtime = dde.geometry.GeometryXTime(geom, timedomain)\n",
    "def boundary_condition(x):\n",
    "    # Extract points A and B (define these appropriately)\n",
    "    data=np.array(x)\n",
    "    x_A=np,array([2,1])\n",
    "    x_B=np.array([1,2])\n",
    "    if model_sigma is None:\n",
    "        raise ValueError(\"model_sigma is not initialized properly.\")\n",
    "    # Apply the equation using sigma_model predictions\n",
    "    sigma_A = model_sigma.predict(x_A)\n",
    "    sigma_B = model_sigma.predict(x_B)\n",
    "   \n",
    "    if sigma_A is None or sigma_B is None:\n",
    "        raise ValueError(\"The prediction returned None.\")\n",
    "    print(f\"Predictions - sigma_A: {sigma_A}, sigma_B: {sigma_B}\")\n",
    "    \n",
    "    # Boundary condition formula\n",
    "    VH, R, T = 1.0, 1.0, 1.0  # Adjust constants accordingly\n",
    "    exponent = (VH / (R * T)) * (sigma_A)\n",
    "    \n",
    "    return np.exp(exponent)  # This should be returned as a constraint\n",
    "\n",
    "# Define boundary conditions within DeepXDE\n",
    "def boundary_func(x, on_boundary):\n",
    "    return boundary_condition(x) if on_boundary else None\n",
    "\n",
    "\n",
    "\n",
    "\n",
    "# Apply the boundary condition defined earlier\n",
    "bc = dde.DirichletBC(geomtime, boundary_func, lambda _, on_boundary: on_boundary)\n",
    "ic = dde.icbc.IC(geomtime, lambda x: 20, lambda _, on_initial: on_initial)\n",
    "\n",
    "\n",
    "data = dde.data.TimePDE(\n",
    "    geomtime,\n",
    "    pde_C_L,[ic,bc],\n",
    "    num_domain=1000,\n",
    "    num_boundary=150,\n",
    "    num_initial=180,\n",
    "    num_test=1000,\n",
    "    )\n",
    "\n",
    "# Network for C_L\n",
    "layer_size = [3] + [64] * 3 + [1]  \n",
    "activation = \"tanh\"\n",
    "initializer = \"Glorot uniform\"\n",
    "net_C_L = dde.nn.FNN(layer_size, activation, initializer)\n",
    "\n",
    "\n",
    "\n",
    "# Define the model with the PDE, initial and boundary conditions\n",
    "model= dde.Model(data, net_C_L)\n",
    "\n",
    "# Compile the model with the PDE and dataset\n",
    "model.compile(\"adam\", lr=1e-3)\n",
    "\n",
    "# Train the model\n",
    "model.train(epochs=5000)\n",
    "dde.saveplot(losshistory, train_state, issave=True, isplot=True)"
   ]
  }
 ],
 "metadata": {
  "kernelspec": {
   "display_name": "Python 3",
   "language": "python",
   "name": "python3"
  },
  "language_info": {
   "codemirror_mode": {
    "name": "ipython",
    "version": 3
   },
   "file_extension": ".py",
   "mimetype": "text/x-python",
   "name": "python",
   "nbconvert_exporter": "python",
   "pygments_lexer": "ipython3",
   "version": "3.11.9"
  }
 },
 "nbformat": 4,
 "nbformat_minor": 2
}
